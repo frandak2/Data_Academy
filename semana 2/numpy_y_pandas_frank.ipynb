{
  "nbformat": 4,
  "nbformat_minor": 0,
  "metadata": {
    "colab": {
      "name": "numpy-y-pandas_frank.ipynb",
      "provenance": [],
      "collapsed_sections": [],
      "include_colab_link": true
    },
    "kernelspec": {
      "name": "python3",
      "display_name": "Python 3"
    },
    "language_info": {
      "name": "python"
    }
  },
  "cells": [
    {
      "cell_type": "markdown",
      "metadata": {
        "id": "view-in-github",
        "colab_type": "text"
      },
      "source": [
        "<a href=\"https://colab.research.google.com/github/frandak2/Data_Academy/blob/main/semana%202/numpy_y_pandas_frank.ipynb\" target=\"_parent\"><img src=\"https://colab.research.google.com/assets/colab-badge.svg\" alt=\"Open In Colab\"/></a>"
      ]
    },
    {
      "cell_type": "markdown",
      "metadata": {
        "id": "-C1c6Lb1-DAs"
      },
      "source": [
        "## Usando NumPy"
      ]
    },
    {
      "cell_type": "markdown",
      "metadata": {
        "id": "N5CDTAR5-MqM"
      },
      "source": [
        "NumPy significa \"Python numérico\" o \"Python numérico\". Es un módulo *open source* de Python que proporciona cálculos matemáticos rápidos en arreglos y matrices. Dado que los arreglos y matrices son una parte esencial del ecosistema de aprendizaje automático, NumPy se usa con otros módulos de machine learning como Scikit-learn, Pandas, Matplotlib, TensorFlow, etc."
      ]
    },
    {
      "cell_type": "markdown",
      "metadata": {
        "id": "Li6CwakN-8Po"
      },
      "source": [
        "### Jugando con numpy\n",
        "\n",
        "**Importando el módulo**"
      ]
    },
    {
      "cell_type": "code",
      "metadata": {
        "id": "bXi6zIed9MXG"
      },
      "source": [
        "import numpy as np"
      ],
      "execution_count": null,
      "outputs": []
    },
    {
      "cell_type": "markdown",
      "metadata": {
        "id": "CsLJ-Sul_E7N"
      },
      "source": [
        "**Creando vectores**"
      ]
    },
    {
      "cell_type": "code",
      "metadata": {
        "id": "yNpWJtz89hhF"
      },
      "source": [
        ""
      ],
      "execution_count": null,
      "outputs": []
    },
    {
      "cell_type": "code",
      "metadata": {
        "id": "utFDOWys9SXE"
      },
      "source": [
        ""
      ],
      "execution_count": null,
      "outputs": []
    },
    {
      "cell_type": "code",
      "metadata": {
        "id": "Q4yGJSXm9tBA"
      },
      "source": [
        ""
      ],
      "execution_count": null,
      "outputs": []
    },
    {
      "cell_type": "code",
      "metadata": {
        "id": "hLr3lVgW97ox"
      },
      "source": [
        ""
      ],
      "execution_count": null,
      "outputs": []
    },
    {
      "cell_type": "markdown",
      "metadata": {
        "id": "6O9KLpqR_X3s"
      },
      "source": [
        "## Usando Pandas\n",
        "\n",
        "Pandas es una de las bibliotecas de Python más utilizadas en la ciencia de datos. Proporciona estructuras y herramientas de análisis de datos de alto rendimiento y fáciles de usar. A diferencia de la biblioteca NumPy que proporciona objetos para matrices multidimensionales, Pandas proporciona un objeto de tabla 2d en memoria llamado Dataframe. Es como una hoja de cálculo con nombres de columnas y etiquetas de filas.\n",
        "\n"
      ]
    },
    {
      "cell_type": "markdown",
      "metadata": {
        "id": "3dDIjbd3Cu0f"
      },
      "source": [
        "###Jugando con Pandas"
      ]
    },
    {
      "cell_type": "markdown",
      "metadata": {
        "id": "le2UK_C4_5uZ"
      },
      "source": [
        "**Importando el módulo**"
      ]
    },
    {
      "cell_type": "code",
      "metadata": {
        "id": "iyYKNuzu_78J"
      },
      "source": [
        "import pandas as pd"
      ],
      "execution_count": null,
      "outputs": []
    },
    {
      "cell_type": "markdown",
      "metadata": {
        "id": "7dh6KKqVAEcZ"
      },
      "source": [
        "**Creando un DataFrame de un diccionario**"
      ]
    },
    {
      "cell_type": "code",
      "metadata": {
        "id": "fph94FwNAMyr"
      },
      "source": [
        "data = {'Nombre':['Enrique', 'Sofia', 'Carlos','Lucia'],'Edad':[24,31,29,42]}\n"
      ],
      "execution_count": null,
      "outputs": []
    },
    {
      "cell_type": "markdown",
      "metadata": {
        "id": "_wUOZL3IBKmv"
      },
      "source": [
        "**Creando un DataFrame de un arreglo**"
      ]
    },
    {
      "cell_type": "code",
      "metadata": {
        "id": "xZNTKsJFBo4g"
      },
      "source": [
        "data = [[\"Enrique\",24],[\"Sofia\",31],[\"Carlos\",29],[\"Lucia\",42]]\n"
      ],
      "execution_count": null,
      "outputs": []
    }
  ]
}