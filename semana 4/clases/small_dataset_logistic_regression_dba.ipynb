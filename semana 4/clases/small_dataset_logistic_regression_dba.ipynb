{
  "nbformat": 4,
  "nbformat_minor": 0,
  "metadata": {
    "colab": {
      "name": "Small Dataset Logistic Regression.ipynb",
      "provenance": [],
      "collapsed_sections": []
    },
    "kernelspec": {
      "display_name": "Python 3",
      "name": "python3"
    },
    "language_info": {
      "name": "python"
    }
  },
  "cells": [
    {
      "cell_type": "markdown",
      "metadata": {
        "id": "n03I5tGI89L9"
      },
      "source": [
        "# Regresión logística usando Scikit Learn"
      ]
    },
    {
      "cell_type": "markdown",
      "metadata": {
        "id": "GW6pA4pH_zqV"
      },
      "source": [
        "## Importar nuestras librerías"
      ]
    },
    {
      "cell_type": "code",
      "metadata": {
        "id": "vjNNP2zy85ZN"
      },
      "source": [
        "import numpy as np\n",
        "import matplotlib.pyplot as plt\n",
        "import seaborn as sns"
      ],
      "execution_count": 1,
      "outputs": []
    },
    {
      "cell_type": "markdown",
      "metadata": {
        "id": "ZRYS7weYAfB2"
      },
      "source": [
        "## Cargar y explorar nuestro set de datos"
      ]
    },
    {
      "cell_type": "code",
      "metadata": {
        "id": "JchYFpjW9XgR"
      },
      "source": [
        "from sklearn.datasets import load_digits\n",
        "digits = load_digits()"
      ],
      "execution_count": 2,
      "outputs": []
    },
    {
      "cell_type": "code",
      "metadata": {
        "id": "LgbIsL8C9oNe"
      },
      "source": [
        ""
      ],
      "execution_count": 2,
      "outputs": []
    },
    {
      "cell_type": "code",
      "metadata": {
        "id": "7qiOWIuG921j"
      },
      "source": [
        ""
      ],
      "execution_count": 2,
      "outputs": []
    },
    {
      "cell_type": "code",
      "metadata": {
        "id": "FgOQMyFz-FqZ"
      },
      "source": [
        ""
      ],
      "execution_count": 2,
      "outputs": []
    },
    {
      "cell_type": "markdown",
      "metadata": {
        "id": "vXN-z8UtApY4"
      },
      "source": [
        "Al ser un problema de aprendizaje supervisado contamos con datos ya etiquetados a los que queremos llegar como resultado."
      ]
    },
    {
      "cell_type": "code",
      "metadata": {
        "id": "gGpA2Am8-eT3"
      },
      "source": [
        ""
      ],
      "execution_count": 2,
      "outputs": []
    },
    {
      "cell_type": "code",
      "metadata": {
        "id": "SQfVX8X6_S89"
      },
      "source": [
        ""
      ],
      "execution_count": 2,
      "outputs": []
    },
    {
      "cell_type": "markdown",
      "metadata": {
        "id": "YSOXTPI6BCkT"
      },
      "source": [
        "## Graficando nuestra imagen"
      ]
    },
    {
      "cell_type": "code",
      "metadata": {
        "id": "-NacLrZP-5v4"
      },
      "source": [
        ""
      ],
      "execution_count": 2,
      "outputs": []
    },
    {
      "cell_type": "markdown",
      "metadata": {
        "id": "Phj-3TdsCzXK"
      },
      "source": [
        "## Graficando varias imagenes"
      ]
    },
    {
      "cell_type": "code",
      "metadata": {
        "id": "V6Vw1ytE_jcN"
      },
      "source": [
        ""
      ],
      "execution_count": 2,
      "outputs": []
    },
    {
      "cell_type": "code",
      "metadata": {
        "id": "Jo2ArpNFDYaU"
      },
      "source": [
        ""
      ],
      "execution_count": 2,
      "outputs": []
    },
    {
      "cell_type": "markdown",
      "metadata": {
        "id": "loTJw67BGw4b"
      },
      "source": [
        "## Fase de entranamiento\n",
        "\n"
      ]
    },
    {
      "cell_type": "markdown",
      "metadata": {
        "id": "lZmSiSYaM8YB"
      },
      "source": [
        "### 1. Dividiendo nuestro set de datos en entrenamiento y pruebas"
      ]
    },
    {
      "cell_type": "code",
      "metadata": {
        "id": "AvbfYQprG0jF"
      },
      "source": [
        ""
      ],
      "execution_count": 2,
      "outputs": []
    },
    {
      "cell_type": "markdown",
      "metadata": {
        "id": "7wlIbGnBNEy5"
      },
      "source": [
        "### 2. Importando nuestro modelo"
      ]
    },
    {
      "cell_type": "code",
      "metadata": {
        "id": "kyWa7IhUHX-I"
      },
      "source": [
        ""
      ],
      "execution_count": 2,
      "outputs": []
    },
    {
      "cell_type": "markdown",
      "metadata": {
        "id": "w-o0oe2HNNU8"
      },
      "source": [
        "### 3. Creando la instancia de nuestro modelo\n",
        "\n",
        "Creamos nuestro pipeline"
      ]
    },
    {
      "cell_type": "code",
      "metadata": {
        "id": "ywgXPxQcHcNC"
      },
      "source": [
        ""
      ],
      "execution_count": 2,
      "outputs": []
    },
    {
      "cell_type": "markdown",
      "metadata": {
        "id": "1zfeVIYVNT0D"
      },
      "source": [
        "### 4. Entrenando nuestro modelo \n",
        "\n"
      ]
    },
    {
      "cell_type": "markdown",
      "metadata": {
        "id": "G2NAIDxNNfF7"
      },
      "source": [
        "Estandariza nuestros datos y después entrena el modelo"
      ]
    },
    {
      "cell_type": "code",
      "metadata": {
        "id": "aDMcy_txHybr"
      },
      "source": [
        ""
      ],
      "execution_count": 2,
      "outputs": []
    },
    {
      "cell_type": "markdown",
      "metadata": {
        "id": "ht67Wc80Nlfm"
      },
      "source": [
        "## Evaluando nuestro modelo\n",
        "\n",
        "La regresión logística con Scikit-Learn usa por defecto la presición como métrica de evaluación del modelo. La presición se define como: \n",
        "\n",
        "$${\\text{Precisión}=\\frac{\\text{Número de predicciones correctas}}{\\text{Número total de predicciones}}}$$"
      ]
    },
    {
      "cell_type": "code",
      "metadata": {
        "id": "ip0bbyy7Lhbj"
      },
      "source": [
        ""
      ],
      "execution_count": 2,
      "outputs": []
    },
    {
      "cell_type": "markdown",
      "metadata": {
        "id": "Civqza-9Nqrr"
      },
      "source": [
        "## Haciendo una predicción con nuestro modelo"
      ]
    },
    {
      "cell_type": "code",
      "metadata": {
        "id": "dEHcZ8N9LnaO"
      },
      "source": [
        ""
      ],
      "execution_count": 2,
      "outputs": []
    },
    {
      "cell_type": "code",
      "metadata": {
        "id": "-m6h6Ri2MACQ"
      },
      "source": [
        ""
      ],
      "execution_count": 2,
      "outputs": []
    },
    {
      "cell_type": "code",
      "metadata": {
        "id": "3H3dgO2ER-DE"
      },
      "source": [
        ""
      ],
      "execution_count": 2,
      "outputs": []
    },
    {
      "cell_type": "markdown",
      "metadata": {
        "id": "wAZCJvHrPfJr"
      },
      "source": [
        "## Creando y graficando una matriz de confusión \n",
        "\n",
        "Una matriz de confusión es una forma de visualizar el desempéño de nuestro algoritmo comparando el valor actual de la etiqueta vs el de la predicción realizada por el modelo."
      ]
    },
    {
      "cell_type": "code",
      "metadata": {
        "id": "0rb0ZMnnPjXF"
      },
      "source": [
        ""
      ],
      "execution_count": 2,
      "outputs": []
    },
    {
      "cell_type": "code",
      "metadata": {
        "id": "rX79xpfISLv6"
      },
      "source": [
        ""
      ],
      "execution_count": 2,
      "outputs": []
    }
  ]
}