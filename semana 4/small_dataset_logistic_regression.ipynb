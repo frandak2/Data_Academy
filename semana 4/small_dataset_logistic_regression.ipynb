{
  "nbformat": 4,
  "nbformat_minor": 0,
  "metadata": {
    "colab": {
      "name": "small_dataset_logistic_regression_dba.ipynb",
      "provenance": [],
      "collapsed_sections": [],
      "include_colab_link": true
    },
    "kernelspec": {
      "display_name": "Python 3",
      "name": "python3"
    },
    "language_info": {
      "name": "python"
    }
  },
  "cells": [
    {
      "cell_type": "markdown",
      "metadata": {
        "id": "view-in-github",
        "colab_type": "text"
      },
      "source": [
        "<a href=\"https://colab.research.google.com/github/frandak2/Data_Academy/blob/main/semana%204/small_dataset_logistic_regression.ipynb\" target=\"_parent\"><img src=\"https://colab.research.google.com/assets/colab-badge.svg\" alt=\"Open In Colab\"/></a>"
      ]
    },
    {
      "cell_type": "markdown",
      "metadata": {
        "id": "n03I5tGI89L9"
      },
      "source": [
        "# Regresión logística usando Scikit Learn"
      ]
    },
    {
      "cell_type": "markdown",
      "metadata": {
        "id": "GW6pA4pH_zqV"
      },
      "source": [
        "## Importar nuestras librerías"
      ]
    },
    {
      "cell_type": "code",
      "metadata": {
        "id": "vjNNP2zy85ZN"
      },
      "source": [
        "import numpy as np\n",
        "import matplotlib.pyplot as plt\n",
        "import seaborn as sns"
      ],
      "execution_count": 1,
      "outputs": []
    },
    {
      "cell_type": "markdown",
      "metadata": {
        "id": "ZRYS7weYAfB2"
      },
      "source": [
        "## Cargar y explorar nuestro set de datos"
      ]
    },
    {
      "cell_type": "code",
      "metadata": {
        "id": "JchYFpjW9XgR"
      },
      "source": [
        "from sklearn.datasets import load_digits\n",
        "digits = load_digits()"
      ],
      "execution_count": 2,
      "outputs": []
    },
    {
      "cell_type": "code",
      "metadata": {
        "id": "LgbIsL8C9oNe",
        "colab": {
          "base_uri": "https://localhost:8080/"
        },
        "outputId": "76a5644f-4e3c-4be2-a368-2a954829fffd"
      },
      "source": [
        "digits.data.shape"
      ],
      "execution_count": 3,
      "outputs": [
        {
          "output_type": "execute_result",
          "data": {
            "text/plain": [
              "(1797, 64)"
            ]
          },
          "metadata": {
            "tags": []
          },
          "execution_count": 3
        }
      ]
    },
    {
      "cell_type": "code",
      "metadata": {
        "id": "7qiOWIuG921j",
        "colab": {
          "base_uri": "https://localhost:8080/"
        },
        "outputId": "117233c2-2ee5-4025-9ae2-665e12bb4152"
      },
      "source": [
        "digit_sample = digits.data[0]\n",
        "digit_sample"
      ],
      "execution_count": 4,
      "outputs": [
        {
          "output_type": "execute_result",
          "data": {
            "text/plain": [
              "array([ 0.,  0.,  5., 13.,  9.,  1.,  0.,  0.,  0.,  0., 13., 15., 10.,\n",
              "       15.,  5.,  0.,  0.,  3., 15.,  2.,  0., 11.,  8.,  0.,  0.,  4.,\n",
              "       12.,  0.,  0.,  8.,  8.,  0.,  0.,  5.,  8.,  0.,  0.,  9.,  8.,\n",
              "        0.,  0.,  4., 11.,  0.,  1., 12.,  7.,  0.,  0.,  2., 14.,  5.,\n",
              "       10., 12.,  0.,  0.,  0.,  0.,  6., 13., 10.,  0.,  0.,  0.])"
            ]
          },
          "metadata": {
            "tags": []
          },
          "execution_count": 4
        }
      ]
    },
    {
      "cell_type": "code",
      "metadata": {
        "id": "FgOQMyFz-FqZ"
      },
      "source": [
        ""
      ],
      "execution_count": 6,
      "outputs": []
    },
    {
      "cell_type": "markdown",
      "metadata": {
        "id": "vXN-z8UtApY4"
      },
      "source": [
        "Al ser un problema de aprendizaje supervisado contamos con datos ya etiquetados a los que queremos llegar como resultado."
      ]
    },
    {
      "cell_type": "code",
      "metadata": {
        "id": "gGpA2Am8-eT3",
        "colab": {
          "base_uri": "https://localhost:8080/"
        },
        "outputId": "24ca7b7b-bd19-4a93-a206-dbb651272bf5"
      },
      "source": [
        "digits.target.shape"
      ],
      "execution_count": 6,
      "outputs": [
        {
          "output_type": "execute_result",
          "data": {
            "text/plain": [
              "(1797,)"
            ]
          },
          "metadata": {
            "tags": []
          },
          "execution_count": 6
        }
      ]
    },
    {
      "cell_type": "code",
      "metadata": {
        "id": "SQfVX8X6_S89",
        "colab": {
          "base_uri": "https://localhost:8080/"
        },
        "outputId": "f5f0ba09-546e-4dd1-e99e-f0f8ccfb69c8"
      },
      "source": [
        "digits.target[0]"
      ],
      "execution_count": 7,
      "outputs": [
        {
          "output_type": "execute_result",
          "data": {
            "text/plain": [
              "0"
            ]
          },
          "metadata": {
            "tags": []
          },
          "execution_count": 7
        }
      ]
    },
    {
      "cell_type": "markdown",
      "metadata": {
        "id": "YSOXTPI6BCkT"
      },
      "source": [
        "## Graficando nuestra imagen"
      ]
    },
    {
      "cell_type": "code",
      "metadata": {
        "id": "-NacLrZP-5v4",
        "colab": {
          "base_uri": "https://localhost:8080/",
          "height": 283
        },
        "outputId": "75e17e14-79c9-4b3f-bcd6-d7ac513408a6"
      },
      "source": [
        "digit_reshape = digit_sample.reshape(8,8)\n",
        "plt.imshow(digit_reshape)"
      ],
      "execution_count": 9,
      "outputs": [
        {
          "output_type": "execute_result",
          "data": {
            "text/plain": [
              "<matplotlib.image.AxesImage at 0x7f1296b62350>"
            ]
          },
          "metadata": {
            "tags": []
          },
          "execution_count": 9
        },
        {
          "output_type": "display_data",
          "data": {
            "image/png": "[encoded data removed]",
            "text/plain": [
              "<Figure size 432x288 with 1 Axes>"
            ]
          },
          "metadata": {
            "tags": [],
            "needs_background": "light"
          }
        }
      ]
    },
    {
      "cell_type": "markdown",
      "metadata": {
        "id": "Phj-3TdsCzXK"
      },
      "source": [
        "## Graficando varias imagenes"
      ]
    },
    {
      "cell_type": "code",
      "metadata": {
        "id": "V6Vw1ytE_jcN",
        "colab": {
          "base_uri": "https://localhost:8080/"
        },
        "outputId": "c9e8ba9f-1599-460a-8a3a-e46f8bb2e26a"
      },
      "source": [
        "number_samples = list(zip(digits.data[30:41],digits.target[30:41]))\n",
        "np.array(number_samples).shape"
      ],
      "execution_count": 13,
      "outputs": [
        {
          "output_type": "stream",
          "text": [
            "/usr/local/lib/python3.7/dist-packages/ipykernel_launcher.py:2: VisibleDeprecationWarning: Creating an ndarray from ragged nested sequences (which is a list-or-tuple of lists-or-tuples-or ndarrays with different lengths or shapes) is deprecated. If you meant to do this, you must specify 'dtype=object' when creating the ndarray\n",
            "  \n"
          ],
          "name": "stderr"
        },
        {
          "output_type": "execute_result",
          "data": {
            "text/plain": [
              "(11, 2)"
            ]
          },
          "metadata": {
            "tags": []
          },
          "execution_count": 13
        }
      ]
    },
    {
      "cell_type": "code",
      "metadata": {
        "id": "Jo2ArpNFDYaU",
        "colab": {
          "base_uri": "https://localhost:8080/",
          "height": 377
        },
        "outputId": "716c4f0b-1855-43d2-e98f-3b8173416e07"
      },
      "source": [
        "plt.figure(figsize=(30,30))\n",
        "for index, (image,label) in enumerate(number_samples):\n",
        "  print(index + 1, label)\n",
        "  digit_reshape = image.reshape(8,8)\n",
        "  plt.subplot(1,len(number_samples),index + 1)\n",
        "  plt.imshow(digit_reshape)\n",
        "  plt.title(f\"Label: {label}\")\n"
      ],
      "execution_count": 15,
      "outputs": [
        {
          "output_type": "stream",
          "text": [
            "1 0\n",
            "2 9\n",
            "3 5\n",
            "4 5\n",
            "5 6\n",
            "6 5\n",
            "7 0\n",
            "8 9\n",
            "9 8\n",
            "10 9\n",
            "11 8\n"
          ],
          "name": "stdout"
        },
        {
          "output_type": "display_data",
          "data": {
            "image/png": "[encoded data removed]",
            "text/plain": [
              "<Figure size 2160x2160 with 11 Axes>"
            ]
          },
          "metadata": {
            "tags": [],
            "needs_background": "light"
          }
        }
      ]
    },
    {
      "cell_type": "markdown",
      "metadata": {
        "id": "loTJw67BGw4b"
      },
      "source": [
        "## Fase de entranamiento\n",
        "\n"
      ]
    },
    {
      "cell_type": "markdown",
      "metadata": {
        "id": "lZmSiSYaM8YB"
      },
      "source": [
        "### 1. Dividiendo nuestro set de datos en entrenamiento y pruebas"
      ]
    },
    {
      "cell_type": "code",
      "metadata": {
        "id": "AvbfYQprG0jF",
        "colab": {
          "base_uri": "https://localhost:8080/"
        },
        "outputId": "1c50ac73-a26a-4318-dd78-eedab45368be"
      },
      "source": [
        "from sklearn.model_selection import train_test_split\n",
        "x_train,x_test,y_train,y_test = train_test_split(digits.data, digits.target, test_size=0.2, random_state=42)\n",
        "print(len(x_train),len(y_train))"
      ],
      "execution_count": 19,
      "outputs": [
        {
          "output_type": "stream",
          "text": [
            "1437 1437\n"
          ],
          "name": "stdout"
        }
      ]
    },
    {
      "cell_type": "markdown",
      "metadata": {
        "id": "7wlIbGnBNEy5"
      },
      "source": [
        "### 2. Importando nuestro modelo"
      ]
    },
    {
      "cell_type": "code",
      "metadata": {
        "id": "kyWa7IhUHX-I"
      },
      "source": [
        "from sklearn.linear_model import LogisticRegression"
      ],
      "execution_count": 18,
      "outputs": []
    },
    {
      "cell_type": "markdown",
      "metadata": {
        "id": "w-o0oe2HNNU8"
      },
      "source": [
        "### 3. Creando la instancia de nuestro modelo\n",
        "\n",
        "Creamos nuestro pipeline"
      ]
    },
    {
      "cell_type": "code",
      "metadata": {
        "id": "ywgXPxQcHcNC"
      },
      "source": [
        "from sklearn.pipeline import make_pipeline\n",
        "from sklearn.preprocessing import StandardScaler\n",
        "pipe = make_pipeline(StandardScaler(),LogisticRegression())"
      ],
      "execution_count": 22,
      "outputs": []
    },
    {
      "cell_type": "markdown",
      "metadata": {
        "id": "1zfeVIYVNT0D"
      },
      "source": [
        "### 4. Entrenando nuestro modelo \n",
        "\n"
      ]
    },
    {
      "cell_type": "markdown",
      "metadata": {
        "id": "G2NAIDxNNfF7"
      },
      "source": [
        "Estandariza nuestros datos y después entrena el modelo"
      ]
    },
    {
      "cell_type": "code",
      "metadata": {
        "id": "aDMcy_txHybr",
        "colab": {
          "base_uri": "https://localhost:8080/"
        },
        "outputId": "f28422a7-3943-4762-9ff3-6fc939fcbce5"
      },
      "source": [
        "pipe.fit(x_train,y_train)"
      ],
      "execution_count": 23,
      "outputs": [
        {
          "output_type": "execute_result",
          "data": {
            "text/plain": [
              "Pipeline(memory=None,\n",
              "         steps=[('standardscaler',\n",
              "                 StandardScaler(copy=True, with_mean=True, with_std=True)),\n",
              "                ('logisticregression',\n",
              "                 LogisticRegression(C=1.0, class_weight=None, dual=False,\n",
              "                                    fit_intercept=True, intercept_scaling=1,\n",
              "                                    l1_ratio=None, max_iter=100,\n",
              "                                    multi_class='auto', n_jobs=None,\n",
              "                                    penalty='l2', random_state=None,\n",
              "                                    solver='lbfgs', tol=0.0001, verbose=0,\n",
              "                                    warm_start=False))],\n",
              "         verbose=False)"
            ]
          },
          "metadata": {
            "tags": []
          },
          "execution_count": 23
        }
      ]
    },
    {
      "cell_type": "markdown",
      "metadata": {
        "id": "ht67Wc80Nlfm"
      },
      "source": [
        "## Evaluando nuestro modelo\n",
        "\n",
        "La regresión logística con Scikit-Learn usa por defecto la presición como métrica de evaluación del modelo. La presición se define como: \n",
        "\n",
        "$${\\text{Precisión}=\\frac{\\text{Número de predicciones correctas}}{\\text{Número total de predicciones}}}$$"
      ]
    },
    {
      "cell_type": "code",
      "metadata": {
        "id": "ip0bbyy7Lhbj",
        "colab": {
          "base_uri": "https://localhost:8080/"
        },
        "outputId": "5700999b-45f4-4afa-dff1-e8d79d85452c"
      },
      "source": [
        "score = pipe.score(x_test,y_test)\n",
        "score"
      ],
      "execution_count": 24,
      "outputs": [
        {
          "output_type": "execute_result",
          "data": {
            "text/plain": [
              "0.9722222222222222"
            ]
          },
          "metadata": {
            "tags": []
          },
          "execution_count": 24
        }
      ]
    },
    {
      "cell_type": "markdown",
      "metadata": {
        "id": "Civqza-9Nqrr"
      },
      "source": [
        "## Haciendo una predicción con nuestro modelo"
      ]
    },
    {
      "cell_type": "code",
      "metadata": {
        "id": "dEHcZ8N9LnaO",
        "colab": {
          "base_uri": "https://localhost:8080/"
        },
        "outputId": "491189cd-eb75-4170-9a68-6fecf9b0d03b"
      },
      "source": [
        "guinea_pig = x_test[0]\n",
        "pipe.predict(guinea_pig.reshape(1,-1))"
      ],
      "execution_count": 25,
      "outputs": [
        {
          "output_type": "execute_result",
          "data": {
            "text/plain": [
              "array([6])"
            ]
          },
          "metadata": {
            "tags": []
          },
          "execution_count": 25
        }
      ]
    },
    {
      "cell_type": "code",
      "metadata": {
        "id": "-m6h6Ri2MACQ",
        "colab": {
          "base_uri": "https://localhost:8080/",
          "height": 283
        },
        "outputId": "7cddca4a-e2be-428f-dcf0-3c2ba2d5019b"
      },
      "source": [
        "plt.imshow(guinea_pig.reshape(8,8))"
      ],
      "execution_count": 26,
      "outputs": [
        {
          "output_type": "execute_result",
          "data": {
            "text/plain": [
              "<matplotlib.image.AxesImage at 0x7f129460cfd0>"
            ]
          },
          "metadata": {
            "tags": []
          },
          "execution_count": 26
        },
        {
          "output_type": "display_data",
          "data": {
            "image/png": "[encoded data removed]",
            "text/plain": [
              "<Figure size 432x288 with 1 Axes>"
            ]
          },
          "metadata": {
            "tags": [],
            "needs_background": "light"
          }
        }
      ]
    },
    {
      "cell_type": "code",
      "metadata": {
        "id": "3H3dgO2ER-DE",
        "colab": {
          "base_uri": "https://localhost:8080/"
        },
        "outputId": "a9b2123a-fccd-4d8e-f333-38683c71154b"
      },
      "source": [
        "predictions = pipe.predict(x_test)\n",
        "predictions"
      ],
      "execution_count": 28,
      "outputs": [
        {
          "output_type": "execute_result",
          "data": {
            "text/plain": [
              "array([6, 9, 3, 7, 2, 1, 5, 2, 5, 2, 1, 9, 4, 0, 4, 2, 3, 7, 8, 8, 4, 3,\n",
              "       9, 7, 5, 6, 3, 5, 6, 3, 4, 9, 1, 4, 4, 6, 9, 4, 7, 6, 6, 9, 1, 3,\n",
              "       6, 1, 3, 0, 6, 5, 5, 1, 3, 5, 6, 0, 9, 0, 0, 1, 0, 4, 5, 2, 4, 5,\n",
              "       7, 0, 7, 5, 9, 9, 5, 4, 7, 0, 4, 5, 5, 9, 9, 0, 2, 3, 8, 0, 6, 4,\n",
              "       4, 9, 1, 2, 8, 3, 5, 2, 9, 0, 4, 4, 4, 3, 5, 3, 1, 3, 5, 9, 4, 2,\n",
              "       7, 7, 4, 4, 1, 9, 2, 7, 8, 7, 2, 6, 9, 4, 0, 7, 2, 7, 5, 8, 7, 5,\n",
              "       7, 9, 0, 6, 6, 4, 2, 8, 0, 9, 4, 6, 9, 9, 6, 9, 0, 5, 5, 6, 6, 0,\n",
              "       6, 4, 3, 9, 3, 8, 7, 2, 9, 0, 4, 5, 3, 6, 5, 9, 9, 8, 4, 2, 1, 3,\n",
              "       7, 7, 2, 2, 3, 9, 8, 0, 3, 2, 2, 5, 6, 9, 9, 4, 1, 5, 4, 2, 3, 6,\n",
              "       4, 8, 5, 9, 5, 7, 8, 9, 4, 8, 1, 5, 4, 4, 9, 6, 1, 8, 6, 0, 4, 5,\n",
              "       2, 7, 1, 6, 4, 5, 6, 0, 3, 2, 3, 6, 7, 1, 9, 1, 4, 7, 6, 5, 8, 5,\n",
              "       5, 1, 5, 2, 8, 8, 9, 9, 7, 6, 2, 2, 2, 3, 4, 8, 8, 3, 6, 0, 9, 7,\n",
              "       7, 0, 1, 0, 4, 5, 1, 5, 3, 6, 0, 4, 1, 0, 0, 3, 6, 5, 9, 7, 3, 5,\n",
              "       5, 9, 9, 8, 5, 3, 3, 2, 0, 5, 8, 3, 4, 0, 2, 4, 6, 4, 3, 4, 5, 0,\n",
              "       5, 2, 1, 3, 1, 4, 1, 1, 7, 0, 1, 5, 2, 1, 2, 8, 7, 0, 6, 4, 8, 8,\n",
              "       5, 1, 8, 4, 5, 8, 7, 9, 8, 6, 0, 6, 2, 0, 7, 9, 8, 9, 5, 2, 7, 7,\n",
              "       1, 8, 7, 4, 3, 8, 3, 5])"
            ]
          },
          "metadata": {
            "tags": []
          },
          "execution_count": 28
        }
      ]
    },
    {
      "cell_type": "markdown",
      "metadata": {
        "id": "wAZCJvHrPfJr"
      },
      "source": [
        "## Creando y graficando una matriz de confusión \n",
        "\n",
        "Una matriz de confusión es una forma de visualizar el desempéño de nuestro algoritmo comparando el valor actual de la etiqueta vs el de la predicción realizada por el modelo."
      ]
    },
    {
      "cell_type": "code",
      "metadata": {
        "id": "0rb0ZMnnPjXF",
        "colab": {
          "base_uri": "https://localhost:8080/"
        },
        "outputId": "033449b4-14b9-4396-ae7f-ef8111a3aaf5"
      },
      "source": [
        "from sklearn import metrics\n",
        "cm = metrics.confusion_matrix(y_test,predictions)\n",
        "cm"
      ],
      "execution_count": 31,
      "outputs": [
        {
          "output_type": "execute_result",
          "data": {
            "text/plain": [
              "array([[33,  0,  0,  0,  0,  0,  0,  0,  0,  0],\n",
              "       [ 0, 28,  0,  0,  0,  0,  0,  0,  0,  0],\n",
              "       [ 0,  0, 33,  0,  0,  0,  0,  0,  0,  0],\n",
              "       [ 0,  0,  0, 33,  0,  1,  0,  0,  0,  0],\n",
              "       [ 0,  1,  0,  0, 45,  0,  0,  0,  0,  0],\n",
              "       [ 0,  0,  0,  0,  0, 44,  1,  0,  0,  2],\n",
              "       [ 0,  0,  0,  0,  0,  1, 34,  0,  0,  0],\n",
              "       [ 0,  0,  0,  0,  0,  0,  0, 33,  0,  1],\n",
              "       [ 0,  0,  0,  0,  0,  1,  0,  0, 29,  0],\n",
              "       [ 0,  0,  0,  1,  0,  0,  0,  0,  1, 38]])"
            ]
          },
          "metadata": {
            "tags": []
          },
          "execution_count": 31
        }
      ]
    },
    {
      "cell_type": "code",
      "metadata": {
        "id": "rX79xpfISLv6",
        "colab": {
          "base_uri": "https://localhost:8080/",
          "height": 548
        },
        "outputId": "625d2398-2f3d-473e-dd68-873785e11e7d"
      },
      "source": [
        "plt.figure(figsize = (9,9))\n",
        "sns.heatmap(cm, annot=True, linewidths=.5, square=True,cmap=\"Blues_r\")\n",
        "plt.title(f\"Punaje = {score}\", fontsize=15)\n",
        "plt.xlabel(\"Valor de prediccion\")\n",
        "plt.ylabel(\"Valor de test\")\n"
      ],
      "execution_count": 36,
      "outputs": [
        {
          "output_type": "execute_result",
          "data": {
            "text/plain": [
              "Text(60.0, 0.5, 'Valor de test')"
            ]
          },
          "metadata": {
            "tags": []
          },
          "execution_count": 36
        },
        {
          "output_type": "display_data",
          "data": {
            "image/png": "[encoded data removed]",
            "text/plain": [
              "<Figure size 648x648 with 2 Axes>"
            ]
          },
          "metadata": {
            "tags": [],
            "needs_background": "light"
          }
        }
      ]
    },
    {
      "cell_type": "code",
      "metadata": {
        "id": "EF1R9FZvrAZf"
      },
      "source": [
        ""
      ],
      "execution_count": null,
      "outputs": []
    }
  ]
}