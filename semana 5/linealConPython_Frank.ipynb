{
  "nbformat": 4,
  "nbformat_minor": 0,
  "metadata": {
    "colab": {
      "name": "linealConPython_Frank",
      "provenance": [],
      "include_colab_link": true
    },
    "kernelspec": {
      "name": "python3",
      "display_name": "Python 3"
    }
  },
  "cells": [
    {
      "cell_type": "markdown",
      "metadata": {
        "id": "view-in-github",
        "colab_type": "text"
      },
      "source": [
        "<a href=\"https://colab.research.google.com/github/frandak2/Data_Academy/blob/main/semana%205/linealConPython_Frank.ipynb\" target=\"_parent\"><img src=\"https://colab.research.google.com/assets/colab-badge.svg\" alt=\"Open In Colab\"/></a>"
      ]
    },
    {
      "cell_type": "code",
      "metadata": {
        "id": "z0imQPWqeJ1d"
      },
      "source": [
        "#Instalamos matplotlib\n",
        "!pip install matplotlib-venn"
      ],
      "execution_count": null,
      "outputs": []
    },
    {
      "cell_type": "code",
      "metadata": {
        "id": "4WXtxhOzyVS2"
      },
      "source": [
        "import numpy as np\n",
        "import matplotlib as mpl\n",
        "import matplotlib.pyplot as plt"
      ],
      "execution_count": null,
      "outputs": []
    },
    {
      "cell_type": "markdown",
      "metadata": {
        "id": "WpxypGrZ2tEz"
      },
      "source": [
        "#Dimensión de un escalar, vector, matriz o tensor\n",
        "\n",
        "\n",
        "---\n",
        "\n"
      ]
    },
    {
      "cell_type": "code",
      "metadata": {
        "id": "KcA2keJHysHX"
      },
      "source": [
        "escalar = 5.679\n",
        "vector = np.array([1,2,3])\n",
        "matriz = np.array([[1,2], [3,4]])\n",
        "tensor = np.array([\n",
        "                   [[1,2,3], [4,5,6],[7,8,9]],\n",
        "                   [[10,11,12], [12,13,14],[14,15,16]],\n",
        "                   [[17,18,19], [20,21,22],[23,24,25]],\n",
        "            ])"
      ],
      "execution_count": null,
      "outputs": []
    },
    {
      "cell_type": "code",
      "metadata": {
        "id": "U2QueKk-1SOK",
        "colab": {
          "base_uri": "https://localhost:8080/",
          "height": 34
        },
        "outputId": "09814b81-3e7f-4bb8-dbb2-ae2c8f20ad8e"
      },
      "source": [
        "print(escalar)"
      ],
      "execution_count": null,
      "outputs": [
        {
          "output_type": "stream",
          "text": [
            "5.679\n"
          ],
          "name": "stdout"
        }
      ]
    },
    {
      "cell_type": "code",
      "metadata": {
        "id": "F1h37o7U1Wko"
      },
      "source": [
        "#Un escalar no tiene dimensión\n",
        "escalar.shape"
      ],
      "execution_count": null,
      "outputs": []
    },
    {
      "cell_type": "code",
      "metadata": {
        "id": "WioBd2p71id5"
      },
      "source": [
        "vector.shape"
      ],
      "execution_count": null,
      "outputs": []
    },
    {
      "cell_type": "code",
      "metadata": {
        "id": "1MJ9NXk_1rBj",
        "colab": {
          "base_uri": "https://localhost:8080/",
          "height": 34
        },
        "outputId": "6f14cc7f-5c3a-4483-947c-4c8f4c2eceed"
      },
      "source": [
        "print(vector)"
      ],
      "execution_count": null,
      "outputs": [
        {
          "output_type": "stream",
          "text": [
            "[1 2 3]\n"
          ],
          "name": "stdout"
        }
      ]
    },
    {
      "cell_type": "code",
      "metadata": {
        "id": "gXGUEXLe1wVL"
      },
      "source": [
        "len(vector)"
      ],
      "execution_count": null,
      "outputs": []
    },
    {
      "cell_type": "code",
      "metadata": {
        "id": "uf-893-g184g",
        "colab": {
          "base_uri": "https://localhost:8080/",
          "height": 34
        },
        "outputId": "8162a10e-4d33-4178-e697-850110ad2674"
      },
      "source": [
        "matriz.shape"
      ],
      "execution_count": null,
      "outputs": [
        {
          "output_type": "execute_result",
          "data": {
            "text/plain": [
              "(2, 2)"
            ]
          },
          "metadata": {
            "tags": []
          },
          "execution_count": 12
        }
      ]
    },
    {
      "cell_type": "code",
      "metadata": {
        "id": "gHGoZz502BIx",
        "colab": {
          "base_uri": "https://localhost:8080/",
          "height": 34
        },
        "outputId": "4ab8dc0e-8e3c-428b-d0a9-1b74902773d2"
      },
      "source": [
        "len(matriz)"
      ],
      "execution_count": null,
      "outputs": [
        {
          "output_type": "execute_result",
          "data": {
            "text/plain": [
              "2"
            ]
          },
          "metadata": {
            "tags": []
          },
          "execution_count": 13
        }
      ]
    },
    {
      "cell_type": "code",
      "metadata": {
        "id": "NayC7CDW2Gc7",
        "colab": {
          "base_uri": "https://localhost:8080/",
          "height": 34
        },
        "outputId": "4bf48841-1f35-41ce-de1e-3f614b53aad1"
      },
      "source": [
        "print(matriz.size)"
      ],
      "execution_count": null,
      "outputs": [
        {
          "output_type": "stream",
          "text": [
            "4\n"
          ],
          "name": "stdout"
        }
      ]
    },
    {
      "cell_type": "code",
      "metadata": {
        "id": "bvsbdmFz2OeL",
        "colab": {
          "base_uri": "https://localhost:8080/",
          "height": 34
        },
        "outputId": "f4b3cfd0-9d48-4673-a408-756430f1d778"
      },
      "source": [
        "print(tensor.shape)"
      ],
      "execution_count": null,
      "outputs": [
        {
          "output_type": "stream",
          "text": [
            "(3, 3, 3)\n"
          ],
          "name": "stdout"
        }
      ]
    },
    {
      "cell_type": "markdown",
      "metadata": {
        "id": "VCoFNCXY2ybp"
      },
      "source": [
        "#Transposición, suma de matrices y escalares\n",
        "\n",
        "\n",
        "---\n",
        "\n"
      ]
    },
    {
      "cell_type": "code",
      "metadata": {
        "id": "C01r0pyH2Emi"
      },
      "source": [
        "#Un escalar no tiene transpuesta\n",
        "escalar_t = escalar.T"
      ],
      "execution_count": null,
      "outputs": []
    },
    {
      "cell_type": "code",
      "metadata": {
        "id": "uHAlwh7E3jj_",
        "colab": {
          "base_uri": "https://localhost:8080/",
          "height": 34
        },
        "outputId": "03aff0e7-320b-48f7-f596-7e3f72aa6abd"
      },
      "source": [
        "vector_t = vector.T\n",
        "vector_t "
      ],
      "execution_count": null,
      "outputs": [
        {
          "output_type": "execute_result",
          "data": {
            "text/plain": [
              "array([1, 2, 3])"
            ]
          },
          "metadata": {
            "tags": []
          },
          "execution_count": 17
        }
      ]
    },
    {
      "cell_type": "code",
      "metadata": {
        "id": "DaeiWcra3ps2",
        "colab": {
          "base_uri": "https://localhost:8080/",
          "height": 51
        },
        "outputId": "8165080e-ada9-4431-cf24-9bdc4040db85"
      },
      "source": [
        "matriz_t = matriz.T\n",
        "matriz_t "
      ],
      "execution_count": null,
      "outputs": [
        {
          "output_type": "execute_result",
          "data": {
            "text/plain": [
              "array([[1, 3],\n",
              "       [2, 4]])"
            ]
          },
          "metadata": {
            "tags": []
          },
          "execution_count": 18
        }
      ]
    },
    {
      "cell_type": "code",
      "metadata": {
        "id": "NlmlCI-g3ywy",
        "colab": {
          "base_uri": "https://localhost:8080/",
          "height": 34
        },
        "outputId": "53baf1a1-e846-4e88-bd4e-eba08ec53500"
      },
      "source": [
        "matriz.shape"
      ],
      "execution_count": null,
      "outputs": [
        {
          "output_type": "execute_result",
          "data": {
            "text/plain": [
              "(2, 2)"
            ]
          },
          "metadata": {
            "tags": []
          },
          "execution_count": 19
        }
      ]
    },
    {
      "cell_type": "code",
      "metadata": {
        "id": "c6vtnQtT35bb",
        "colab": {
          "base_uri": "https://localhost:8080/",
          "height": 34
        },
        "outputId": "6a7984d2-19e1-4a43-9859-e4407f3dd41e"
      },
      "source": [
        "matriz_t.shape"
      ],
      "execution_count": null,
      "outputs": [
        {
          "output_type": "execute_result",
          "data": {
            "text/plain": [
              "(2, 2)"
            ]
          },
          "metadata": {
            "tags": []
          },
          "execution_count": 20
        }
      ]
    },
    {
      "cell_type": "code",
      "metadata": {
        "id": "qthFMra84Mb1",
        "colab": {
          "base_uri": "https://localhost:8080/",
          "height": 204
        },
        "outputId": "53612e5f-7496-4294-fbb0-d7b51366ae3a"
      },
      "source": [
        "tensor_t = tensor.T\n",
        "tensor_t "
      ],
      "execution_count": null,
      "outputs": [
        {
          "output_type": "execute_result",
          "data": {
            "text/plain": [
              "array([[[ 1, 10, 17],\n",
              "        [ 4, 12, 20],\n",
              "        [ 7, 14, 23]],\n",
              "\n",
              "       [[ 2, 11, 18],\n",
              "        [ 5, 13, 21],\n",
              "        [ 8, 15, 24]],\n",
              "\n",
              "       [[ 3, 12, 19],\n",
              "        [ 6, 14, 22],\n",
              "        [ 9, 16, 25]]])"
            ]
          },
          "metadata": {
            "tags": []
          },
          "execution_count": 21
        }
      ]
    },
    {
      "cell_type": "code",
      "metadata": {
        "id": "v2BpTYeJ4MQq",
        "colab": {
          "base_uri": "https://localhost:8080/",
          "height": 34
        },
        "outputId": "ffbfbc7b-e18a-4513-9cda-ba2e77661437"
      },
      "source": [
        "tensor.shape"
      ],
      "execution_count": null,
      "outputs": [
        {
          "output_type": "execute_result",
          "data": {
            "text/plain": [
              "(3, 3, 3)"
            ]
          },
          "metadata": {
            "tags": []
          },
          "execution_count": 22
        }
      ]
    },
    {
      "cell_type": "code",
      "metadata": {
        "id": "CIWLndcW4ZzI",
        "colab": {
          "base_uri": "https://localhost:8080/",
          "height": 34
        },
        "outputId": "5750e818-e185-4601-d8ce-b17de9178043"
      },
      "source": [
        "tensor_t.shape"
      ],
      "execution_count": null,
      "outputs": [
        {
          "output_type": "execute_result",
          "data": {
            "text/plain": [
              "(3, 3, 3)"
            ]
          },
          "metadata": {
            "tags": []
          },
          "execution_count": 23
        }
      ]
    },
    {
      "cell_type": "code",
      "metadata": {
        "id": "0PglslLi4kqO",
        "colab": {
          "base_uri": "https://localhost:8080/",
          "height": 51
        },
        "outputId": "d82f235d-9e19-4289-92bc-693169b75653"
      },
      "source": [
        "#La transpuesta de una matriz transpuesta es la matriz original\n",
        "matriz_t_t = matriz_t.T\n",
        "matriz_t.T"
      ],
      "execution_count": null,
      "outputs": [
        {
          "output_type": "execute_result",
          "data": {
            "text/plain": [
              "array([[1, 2],\n",
              "       [3, 4]])"
            ]
          },
          "metadata": {
            "tags": []
          },
          "execution_count": 24
        }
      ]
    },
    {
      "cell_type": "code",
      "metadata": {
        "id": "llbG7UEP4zJ5",
        "colab": {
          "base_uri": "https://localhost:8080/",
          "height": 51
        },
        "outputId": "98a72276-c4f0-4308-8087-37a9a763fcc9"
      },
      "source": [
        "A = matriz\n",
        "B= matriz_t\n",
        "C = A+B\n",
        "C"
      ],
      "execution_count": null,
      "outputs": [
        {
          "output_type": "execute_result",
          "data": {
            "text/plain": [
              "array([[2, 5],\n",
              "       [5, 8]])"
            ]
          },
          "metadata": {
            "tags": []
          },
          "execution_count": 26
        }
      ]
    },
    {
      "cell_type": "code",
      "metadata": {
        "id": "n2jT-CLJ5zq1",
        "colab": {
          "base_uri": "https://localhost:8080/",
          "height": 51
        },
        "outputId": "867d3aa4-11f2-4355-87fd-7b5b4cf8a0e3"
      },
      "source": [
        "D = matriz + escalar\n",
        "D"
      ],
      "execution_count": null,
      "outputs": [
        {
          "output_type": "execute_result",
          "data": {
            "text/plain": [
              "array([[6.679, 7.679],\n",
              "       [8.679, 9.679]])"
            ]
          },
          "metadata": {
            "tags": []
          },
          "execution_count": 27
        }
      ]
    },
    {
      "cell_type": "markdown",
      "metadata": {
        "id": "fVVxcSZA6DjJ"
      },
      "source": [
        "#Suma de matrices y vectores (broadcasting)\n",
        "\n",
        "\n",
        "---\n",
        "\n"
      ]
    },
    {
      "cell_type": "code",
      "metadata": {
        "id": "2EHdi5Xg547f"
      },
      "source": [
        "#Da un error las dimensiones no coinciden\n",
        "A = vector + matriz "
      ],
      "execution_count": null,
      "outputs": []
    },
    {
      "cell_type": "code",
      "metadata": {
        "id": "ni9NwVMe6DS2"
      },
      "source": [
        "#Brodcasting es extener una matriz de menor tamaño para sumarla a uno mayor tamaño"
      ],
      "execution_count": null,
      "outputs": []
    },
    {
      "cell_type": "code",
      "metadata": {
        "id": "Q2e4ncPZ6y_v",
        "colab": {
          "base_uri": "https://localhost:8080/",
          "height": 51
        },
        "outputId": "cd4671e1-45f3-4b59-a949-3732d1fb660b"
      },
      "source": [
        "C = matriz + 42\n",
        "C"
      ],
      "execution_count": null,
      "outputs": [
        {
          "output_type": "execute_result",
          "data": {
            "text/plain": [
              "array([[43, 44],\n",
              "       [45, 46]])"
            ]
          },
          "metadata": {
            "tags": []
          },
          "execution_count": 30
        }
      ]
    },
    {
      "cell_type": "code",
      "metadata": {
        "id": "Xk0Jpz7x65n8",
        "colab": {
          "base_uri": "https://localhost:8080/",
          "height": 51
        },
        "outputId": "97072f3a-e6dc-431c-9e7c-c736cb227b8c"
      },
      "source": [
        "D = matriz + np.array([[6, 6]])\n",
        "D"
      ],
      "execution_count": null,
      "outputs": [
        {
          "output_type": "execute_result",
          "data": {
            "text/plain": [
              "array([[ 7,  8],\n",
              "       [ 9, 10]])"
            ]
          },
          "metadata": {
            "tags": []
          },
          "execution_count": 33
        }
      ]
    },
    {
      "cell_type": "markdown",
      "metadata": {
        "id": "ywMNm_um7Oq0"
      },
      "source": [
        "#Producto interno entre una matriz y un vector\n",
        "\n",
        "\n",
        "---\n",
        "\n"
      ]
    },
    {
      "cell_type": "code",
      "metadata": {
        "id": "oAsF6POa7xK2"
      },
      "source": [
        "escalar = 5.679\n",
        "vector = np.array([2,3])\n",
        "matriz = np.array([[1,2], [3,4], [5,6]])"
      ],
      "execution_count": null,
      "outputs": []
    },
    {
      "cell_type": "code",
      "metadata": {
        "id": "Kn3RAesl7SRY",
        "colab": {
          "base_uri": "https://localhost:8080/",
          "height": 68
        },
        "outputId": "bdb9aac9-2cfd-405d-9ab8-f9587d232e18"
      },
      "source": [
        "#Multiplicar matriz por vector - En este caso la dimensión de la matriz es 3x2 multiplicado por un vector de dimensiòn 2\n",
        "A = matriz * vector\n",
        "A"
      ],
      "execution_count": null,
      "outputs": [
        {
          "output_type": "execute_result",
          "data": {
            "text/plain": [
              "array([[ 2,  6],\n",
              "       [ 6, 12],\n",
              "       [10, 18]])"
            ]
          },
          "metadata": {
            "tags": []
          },
          "execution_count": 41
        }
      ]
    },
    {
      "cell_type": "code",
      "metadata": {
        "id": "dR0tdsbL7lbo"
      },
      "source": [
        "#Producto interno, nos devuelve un vector de dimensión\n",
        "# Se multiplica elemento a elemento en renglón y se suman \n",
        "B = matriz.dot(vector)\n",
        "B"
      ],
      "execution_count": null,
      "outputs": []
    },
    {
      "cell_type": "code",
      "metadata": {
        "id": "TuVgvjOV9Bis",
        "colab": {
          "base_uri": "https://localhost:8080/",
          "height": 34
        },
        "outputId": "c33f879f-d011-4c5b-cbb4-90782d152f3c"
      },
      "source": [
        "#Otra manera de invocar al producto interno\n",
        "C = np.dot(matriz, vector)\n",
        "C"
      ],
      "execution_count": null,
      "outputs": [
        {
          "output_type": "execute_result",
          "data": {
            "text/plain": [
              "array([ 8, 18, 28])"
            ]
          },
          "metadata": {
            "tags": []
          },
          "execution_count": 43
        }
      ]
    },
    {
      "cell_type": "markdown",
      "metadata": {
        "id": "i7a3uE7d9VVO"
      },
      "source": [
        "#Producto interno entre dos matrices\n",
        "\n",
        "\n",
        "---\n",
        "\n"
      ]
    },
    {
      "cell_type": "code",
      "metadata": {
        "id": "2xwhqGfq9cwU"
      },
      "source": [
        "A = np.array([[[1,2,3], [4,5,6],[7,8,9]],[10,11,12]])\n",
        "B = np.array([[2,3], [5,7],[11,13]])"
      ],
      "execution_count": null,
      "outputs": []
    },
    {
      "cell_type": "code",
      "metadata": {
        "id": "xzy-71HN-QHT",
        "colab": {
          "base_uri": "https://localhost:8080/",
          "height": 34
        },
        "outputId": "b233a0ea-6e4e-464d-88f0-4a8461aab262"
      },
      "source": [
        "print(A.shape)"
      ],
      "execution_count": null,
      "outputs": [
        {
          "output_type": "stream",
          "text": [
            "(2, 3)\n"
          ],
          "name": "stdout"
        }
      ]
    },
    {
      "cell_type": "code",
      "metadata": {
        "id": "xhEQQG8G-V4m",
        "colab": {
          "base_uri": "https://localhost:8080/",
          "height": 34
        },
        "outputId": "2c7a9fd6-e281-4c9a-c868-a8aff6cc97b2"
      },
      "source": [
        "print(B.shape)"
      ],
      "execution_count": null,
      "outputs": [
        {
          "output_type": "stream",
          "text": [
            "(3, 2)\n"
          ],
          "name": "stdout"
        }
      ]
    },
    {
      "cell_type": "code",
      "metadata": {
        "id": "4vu_8QA6-Y6E",
        "colab": {
          "base_uri": "https://localhost:8080/",
          "height": 88
        },
        "outputId": "9d5fe345-6357-4f0a-8ab1-c73caaf889c2"
      },
      "source": [
        "C = A.dot(B)\n",
        "C"
      ],
      "execution_count": null,
      "outputs": [
        {
          "output_type": "execute_result",
          "data": {
            "text/plain": [
              "array([[list([1, 2, 3, 1, 2, 3, 4, 5, 6, 4, 5, 6, 4, 5, 6, 4, 5, 6, 4, 5, 6, 7, 8, 9, 7, 8, 9, 7, 8, 9, 7, 8, 9, 7, 8, 9, 7, 8, 9, 7, 8, 9, 7, 8, 9, 7, 8, 9, 7, 8, 9, 7, 8, 9]),\n",
              "        list([1, 2, 3, 1, 2, 3, 1, 2, 3, 4, 5, 6, 4, 5, 6, 4, 5, 6, 4, 5, 6, 4, 5, 6, 4, 5, 6, 4, 5, 6, 7, 8, 9, 7, 8, 9, 7, 8, 9, 7, 8, 9, 7, 8, 9, 7, 8, 9, 7, 8, 9, 7, 8, 9, 7, 8, 9, 7, 8, 9, 7, 8, 9, 7, 8, 9, 7, 8, 9])],\n",
              "       [207, 263]], dtype=object)"
            ]
          },
          "metadata": {
            "tags": []
          },
          "execution_count": 52
        }
      ]
    },
    {
      "cell_type": "code",
      "metadata": {
        "id": "NKRig8TE-hBX"
      },
      "source": [
        "#No esta definido por que las dimensiones no coinciden - Deben de tener la forma (n*m) x (p*n)\n",
        "D = B.dot(C)\n",
        "D"
      ],
      "execution_count": null,
      "outputs": []
    },
    {
      "cell_type": "code",
      "metadata": {
        "id": "jI13rLxE_FW4"
      },
      "source": [
        ""
      ],
      "execution_count": null,
      "outputs": []
    },
    {
      "cell_type": "markdown",
      "metadata": {
        "id": "lFo8_MZu_ONt"
      },
      "source": [
        "#Propiedades de las matrices: la multiplicación de matrices es asociativa y distributiva, no es conmutativa\n",
        "\n",
        "\n",
        "---\n",
        "\n"
      ]
    },
    {
      "cell_type": "markdown",
      "metadata": {
        "id": "1CPMYCCG_e69"
      },
      "source": [
        "**Nota**\n",
        "\n",
        "El producto interno de matrices es:\n",
        "\n",
        "*   Asociativa: Sí\n",
        "*   Conmutativa: NO\n",
        "\n",
        "El producto interno de vectores es:\n",
        "\n",
        "*   Asociativa: Sí\n",
        "*   Distributiva: Sí\n",
        "*  Conmutativa: Sí\n",
        "\n",
        "\n",
        "\n",
        "\n"
      ]
    },
    {
      "cell_type": "code",
      "metadata": {
        "id": "eFuf8CxW_VpG"
      },
      "source": [
        "A = np.array([[2,3], [5,7],[11,13]])\n",
        "B = np.array([[1,3], [2,1]])\n",
        "C = np.array([[3,1], [4,2]]) "
      ],
      "execution_count": null,
      "outputs": []
    },
    {
      "cell_type": "code",
      "metadata": {
        "id": "0NkBzV8cAsrX",
        "colab": {
          "base_uri": "https://localhost:8080/",
          "height": 68
        },
        "outputId": "4ab92f50-1547-4119-f85c-716ec147fbb8"
      },
      "source": [
        "#Asociativa \n",
        "ABC = A.dot(B.dot(C))\n",
        "ABC"
      ],
      "execution_count": null,
      "outputs": [
        {
          "output_type": "execute_result",
          "data": {
            "text/plain": [
              "array([[ 60,  26],\n",
              "       [145,  63],\n",
              "       [295, 129]])"
            ]
          },
          "metadata": {
            "tags": []
          },
          "execution_count": 58
        }
      ]
    },
    {
      "cell_type": "code",
      "metadata": {
        "id": "xhodZ6hMAIk3",
        "colab": {
          "base_uri": "https://localhost:8080/",
          "height": 68
        },
        "outputId": "7b781547-6d4d-44ac-b0b0-cac434ab2742"
      },
      "source": [
        "AB_C = C.dot(B.dot(C))\n",
        "ABC"
      ],
      "execution_count": null,
      "outputs": [
        {
          "output_type": "execute_result",
          "data": {
            "text/plain": [
              "array([[ 60,  26],\n",
              "       [145,  63],\n",
              "       [295, 129]])"
            ]
          },
          "metadata": {
            "tags": []
          },
          "execution_count": 59
        }
      ]
    },
    {
      "cell_type": "code",
      "metadata": {
        "id": "7_P7hS2CBHJr",
        "colab": {
          "base_uri": "https://localhost:8080/",
          "height": 102
        },
        "outputId": "5c966e20-ab89-4576-c6f4-dc16155e9ee8"
      },
      "source": [
        "#Distributiva\n",
        "D = A.dot(B+C)\n",
        "E = A.dot(B) + A.dot(C)\n",
        "print(D,E)"
      ],
      "execution_count": null,
      "outputs": [
        {
          "output_type": "stream",
          "text": [
            "[[ 26  17]\n",
            " [ 62  41]\n",
            " [122  83]] [[ 26  17]\n",
            " [ 62  41]\n",
            " [122  83]]\n"
          ],
          "name": "stdout"
        }
      ]
    },
    {
      "cell_type": "code",
      "metadata": {
        "id": "KRWhWSlIBaiA",
        "colab": {
          "base_uri": "https://localhost:8080/",
          "height": 68
        },
        "outputId": "b9f0ba32-665d-438a-c8b5-b6b6c7154e25"
      },
      "source": [
        "#Validación, verificamos que sean iguales las matrices\n",
        "print(D==E)"
      ],
      "execution_count": null,
      "outputs": [
        {
          "output_type": "stream",
          "text": [
            "[[ True  True]\n",
            " [ True  True]\n",
            " [ True  True]]\n"
          ],
          "name": "stdout"
        }
      ]
    },
    {
      "cell_type": "code",
      "metadata": {
        "id": "aHVM7SbbBmYG",
        "colab": {
          "base_uri": "https://localhost:8080/",
          "height": 51
        },
        "outputId": "ecdefc94-7255-4cb3-ffd0-e5fee26a11c8"
      },
      "source": [
        "F = B.dot(C)\n",
        "G = C.dot(B)\n",
        "print(F==G)"
      ],
      "execution_count": null,
      "outputs": [
        {
          "output_type": "stream",
          "text": [
            "[[False False]\n",
            " [False False]]\n"
          ],
          "name": "stdout"
        }
      ]
    },
    {
      "cell_type": "code",
      "metadata": {
        "id": "kSaisTV8CCfp"
      },
      "source": [
        "v1 = np.array([[2], [7]])\n",
        "v2 = np.array([[3], [5]])"
      ],
      "execution_count": null,
      "outputs": []
    },
    {
      "cell_type": "code",
      "metadata": {
        "id": "JzB2q3zaCS5v"
      },
      "source": [
        "v1_tv2 = v1.T.dot(v2)\n",
        "v2_tv1 = v2.T.dot(v1)"
      ],
      "execution_count": null,
      "outputs": []
    },
    {
      "cell_type": "code",
      "metadata": {
        "id": "QL6gYyLDChia",
        "colab": {
          "base_uri": "https://localhost:8080/",
          "height": 34
        },
        "outputId": "403bb6d1-69ad-4133-f606-558558ee5117"
      },
      "source": [
        "print(v1_tv2)"
      ],
      "execution_count": null,
      "outputs": [
        {
          "output_type": "stream",
          "text": [
            "[[41]]\n"
          ],
          "name": "stdout"
        }
      ]
    },
    {
      "cell_type": "code",
      "metadata": {
        "id": "52cSO_yfClRz",
        "colab": {
          "base_uri": "https://localhost:8080/",
          "height": 34
        },
        "outputId": "b04641f4-8ac5-46e8-f508-f862f573ecf1"
      },
      "source": [
        "print(v2_tv1)"
      ],
      "execution_count": null,
      "outputs": [
        {
          "output_type": "stream",
          "text": [
            "[[41]]\n"
          ],
          "name": "stdout"
        }
      ]
    },
    {
      "cell_type": "markdown",
      "metadata": {
        "id": "I1EmNTiPC8gK"
      },
      "source": [
        "#Transposición de un producto de matrices\n",
        "\n",
        "\n",
        "---\n",
        "\n"
      ]
    },
    {
      "cell_type": "code",
      "metadata": {
        "id": "LLXslRF6DApN"
      },
      "source": [
        "A = np.array([[2,3], [5,7],[11,13]])\n",
        "B = np.array([[1,3], [2,1]])"
      ],
      "execution_count": null,
      "outputs": []
    },
    {
      "cell_type": "code",
      "metadata": {
        "id": "y45ARt9aDkJY"
      },
      "source": [
        "AB_t = A.dot(B).T"
      ],
      "execution_count": null,
      "outputs": []
    },
    {
      "cell_type": "code",
      "metadata": {
        "id": "T2WB_8fKDskS"
      },
      "source": [
        "B_tA_t = B.T.dot(A.T)"
      ],
      "execution_count": null,
      "outputs": []
    },
    {
      "cell_type": "code",
      "metadata": {
        "id": "Ta4sOXJDDwmd",
        "colab": {
          "base_uri": "https://localhost:8080/",
          "height": 51
        },
        "outputId": "e6dc08a7-a70f-4d8d-be96-bb81e3eed4ea"
      },
      "source": [
        "print(AB_t == B_tA_t)"
      ],
      "execution_count": null,
      "outputs": [
        {
          "output_type": "stream",
          "text": [
            "[[ True  True  True]\n",
            " [ True  True  True]]\n"
          ],
          "name": "stdout"
        }
      ]
    },
    {
      "cell_type": "markdown",
      "metadata": {
        "id": "JA1cOPswdWF1"
      },
      "source": [
        "#Cómo comprobar la solución de un sistema de ecuaciones lineal\n",
        "\n",
        "---\n"
      ]
    },
    {
      "cell_type": "code",
      "metadata": {
        "id": "tADU_OoVdbaa"
      },
      "source": [
        "%matplotlib inline"
      ],
      "execution_count": null,
      "outputs": []
    },
    {
      "cell_type": "code",
      "metadata": {
        "id": "642PDVhPeqSu"
      },
      "source": [
        "x = np.arange(-5,5)"
      ],
      "execution_count": null,
      "outputs": []
    },
    {
      "cell_type": "code",
      "metadata": {
        "id": "P7lROlGrew5t"
      },
      "source": [
        "y_1 = 3*x + 5\n",
        "y_2 = 2*x + 3"
      ],
      "execution_count": null,
      "outputs": []
    },
    {
      "cell_type": "code",
      "metadata": {
        "id": "lxpPdNwMe6MW",
        "colab": {
          "base_uri": "https://localhost:8080/",
          "height": 283
        },
        "outputId": "b453f7e8-da1c-438a-f849-ec450992f6b3"
      },
      "source": [
        "#Creamos una figura\n",
        "plt.figure()\n",
        "\n",
        "#curvas graficar\n",
        "plt.plot(x,y_1)\n",
        "plt.plot(x,y_2)\n",
        "\n",
        "#Definimos rangos de X y Y para visualizar\n",
        "plt.xlim(-5,5)\n",
        "plt.ylim(-5,5)\n",
        "\n",
        "#Formato de los ejes\n",
        "plt.axvline(x=0, color= 'grey')\n",
        "plt.axhline(y=0, color= 'grey')\n"
      ],
      "execution_count": null,
      "outputs": [
        {
          "output_type": "execute_result",
          "data": {
            "text/plain": [
              "<matplotlib.lines.Line2D at 0x7f8334539898>"
            ]
          },
          "metadata": {
            "tags": []
          },
          "execution_count": 64
        },
        {
          "output_type": "display_data",
          "data": {
            "image/png": "[encoded data removed]",
            "text/plain": [
              "<Figure size 432x288 with 1 Axes>"
            ]
          },
          "metadata": {
            "tags": [],
            "needs_background": "light"
          }
        }
      ]
    },
    {
      "cell_type": "code",
      "metadata": {
        "id": "u7H1ZCElgcb6",
        "colab": {
          "base_uri": "https://localhost:8080/",
          "height": 52
        },
        "outputId": "4dd00c48-42aa-46f4-b2dc-49a2b96af4c8"
      },
      "source": [
        "A = np.array([[-3,1], [-2,1]])\n",
        "A"
      ],
      "execution_count": null,
      "outputs": [
        {
          "output_type": "execute_result",
          "data": {
            "text/plain": [
              "array([[-3,  1],\n",
              "       [-2,  1]])"
            ]
          },
          "metadata": {
            "tags": []
          },
          "execution_count": 13
        }
      ]
    },
    {
      "cell_type": "code",
      "metadata": {
        "id": "CTfvnejvg7Rj"
      },
      "source": [
        "B = np.array([[5],[3]])"
      ],
      "execution_count": null,
      "outputs": []
    },
    {
      "cell_type": "code",
      "metadata": {
        "id": "aMt3vZ6yhJDG",
        "colab": {
          "base_uri": "https://localhost:8080/",
          "height": 35
        },
        "outputId": "efdea6c7-b4bf-4fde-bc42-05618d663bb4"
      },
      "source": [
        "sol_1 = np.array([-2, -1])\n",
        "sol_1"
      ],
      "execution_count": null,
      "outputs": [
        {
          "output_type": "execute_result",
          "data": {
            "text/plain": [
              "array([-2, -1])"
            ]
          },
          "metadata": {
            "tags": []
          },
          "execution_count": 16
        }
      ]
    },
    {
      "cell_type": "code",
      "metadata": {
        "id": "WxQAuRaThT6E",
        "colab": {
          "base_uri": "https://localhost:8080/",
          "height": 35
        },
        "outputId": "a9a6f2f7-2534-4ea3-d8e8-1fa65dd17638"
      },
      "source": [
        "r = A.dot(sol_1)\n",
        "r"
      ],
      "execution_count": null,
      "outputs": [
        {
          "output_type": "execute_result",
          "data": {
            "text/plain": [
              "array([5, 3])"
            ]
          },
          "metadata": {
            "tags": []
          },
          "execution_count": 17
        }
      ]
    },
    {
      "cell_type": "markdown",
      "metadata": {
        "id": "Lgy5qyJvhi7e"
      },
      "source": [
        "#Tipos especiales de matrices: Identidad, Inversa, Singulares\n",
        "\n",
        "\n",
        "---\n",
        "\n"
      ]
    },
    {
      "cell_type": "code",
      "metadata": {
        "id": "uS1KDNbzhioB",
        "colab": {
          "base_uri": "https://localhost:8080/",
          "height": 88
        },
        "outputId": "2551c060-4095-45c0-af7a-a8ffa884c246"
      },
      "source": [
        "#np.eye genera una matriz identidad, le damos como parámetro el tamaño\n",
        "identidad = np.eye(4)\n",
        "identidad"
      ],
      "execution_count": null,
      "outputs": [
        {
          "output_type": "execute_result",
          "data": {
            "text/plain": [
              "array([[1., 0., 0., 0.],\n",
              "       [0., 1., 0., 0.],\n",
              "       [0., 0., 1., 0.],\n",
              "       [0., 0., 0., 1.]])"
            ]
          },
          "metadata": {
            "tags": []
          },
          "execution_count": 19
        }
      ]
    },
    {
      "cell_type": "code",
      "metadata": {
        "id": "7mtWvvK4h4ob",
        "colab": {
          "base_uri": "https://localhost:8080/",
          "height": 88
        },
        "outputId": "f27434dc-124c-4119-f6e7-9a827939b1b8"
      },
      "source": [
        "vector = np.array([[2],[3],[5],[7]])\n",
        "vector"
      ],
      "execution_count": null,
      "outputs": [
        {
          "output_type": "execute_result",
          "data": {
            "text/plain": [
              "array([[2],\n",
              "       [3],\n",
              "       [5],\n",
              "       [7]])"
            ]
          },
          "metadata": {
            "tags": []
          },
          "execution_count": 21
        }
      ]
    },
    {
      "cell_type": "code",
      "metadata": {
        "id": "Wia2pYxNiDA8",
        "colab": {
          "base_uri": "https://localhost:8080/",
          "height": 88
        },
        "outputId": "adf1f12f-1aea-4f7b-c2c9-2da660283b07"
      },
      "source": [
        "#La matriz identidad es el elemento neutro de las matrices\n",
        "r_neutro = identidad.dot(vector)\n",
        "r_neutro "
      ],
      "execution_count": null,
      "outputs": [
        {
          "output_type": "execute_result",
          "data": {
            "text/plain": [
              "array([[2.],\n",
              "       [3.],\n",
              "       [5.],\n",
              "       [7.]])"
            ]
          },
          "metadata": {
            "tags": []
          },
          "execution_count": 22
        }
      ]
    },
    {
      "cell_type": "code",
      "metadata": {
        "id": "YXE3lp5gia5R",
        "colab": {
          "base_uri": "https://localhost:8080/",
          "height": 70
        },
        "outputId": "646ad2bd-dc73-44b1-c59f-be56d54cc64a"
      },
      "source": [
        "A = np.array([[1,0,1],[0,1,1], [-1,1,1]])\n",
        "A"
      ],
      "execution_count": null,
      "outputs": [
        {
          "output_type": "execute_result",
          "data": {
            "text/plain": [
              "array([[ 1,  0,  1],\n",
              "       [ 0,  1,  1],\n",
              "       [-1,  1,  1]])"
            ]
          },
          "metadata": {
            "tags": []
          },
          "execution_count": 24
        }
      ]
    },
    {
      "cell_type": "code",
      "metadata": {
        "id": "a_6BQuEljG1i",
        "colab": {
          "base_uri": "https://localhost:8080/",
          "height": 70
        },
        "outputId": "c77741e5-ca64-4a56-bc19-2c2e6a687743"
      },
      "source": [
        "inversa_A = np.linalg.inv(A)\n",
        "inversa_A "
      ],
      "execution_count": null,
      "outputs": [
        {
          "output_type": "execute_result",
          "data": {
            "text/plain": [
              "array([[ 0.,  1., -1.],\n",
              "       [-1.,  2., -1.],\n",
              "       [ 1., -1.,  1.]])"
            ]
          },
          "metadata": {
            "tags": []
          },
          "execution_count": 27
        }
      ]
    },
    {
      "cell_type": "code",
      "metadata": {
        "id": "fCUBz34PjVHa",
        "colab": {
          "base_uri": "https://localhost:8080/",
          "height": 70
        },
        "outputId": "14ea4065-e751-456e-8fb8-944376af6f7a"
      },
      "source": [
        "#Una matriz por su inversa (cuando existe) da como resultado la identidad\n",
        "identidad = A.dot(inversa_A)\n",
        "identidad"
      ],
      "execution_count": null,
      "outputs": [
        {
          "output_type": "execute_result",
          "data": {
            "text/plain": [
              "array([[1., 0., 0.],\n",
              "       [0., 1., 0.],\n",
              "       [0., 0., 1.]])"
            ]
          },
          "metadata": {
            "tags": []
          },
          "execution_count": 29
        }
      ]
    },
    {
      "cell_type": "code",
      "metadata": {
        "id": "JWoGk0YVjmdJ",
        "colab": {
          "base_uri": "https://localhost:8080/",
          "height": 52
        },
        "outputId": "a533e6be-1dbe-4def-df7e-6ab2fcb681ae"
      },
      "source": [
        "singular = np.array([[1,1],[1,1]])\n",
        "singular"
      ],
      "execution_count": null,
      "outputs": [
        {
          "output_type": "execute_result",
          "data": {
            "text/plain": [
              "array([[1, 1],\n",
              "       [1, 1]])"
            ]
          },
          "metadata": {
            "tags": []
          },
          "execution_count": 30
        }
      ]
    },
    {
      "cell_type": "code",
      "metadata": {
        "id": "oLl0Va6Gj3hI",
        "colab": {
          "base_uri": "https://localhost:8080/",
          "height": 351
        },
        "outputId": "d538e7b5-3368-4a93-9973-32d4487bae19"
      },
      "source": [
        "#Una matriz singular no tiene inversa\n",
        "inversa_singular = np.linalg.inv(singular)"
      ],
      "execution_count": null,
      "outputs": [
        {
          "output_type": "error",
          "ename": "LinAlgError",
          "evalue": "ignored",
          "traceback": [
            "\u001b[0;31m---------------------------------------------------------------------------\u001b[0m",
            "\u001b[0;31mLinAlgError\u001b[0m                               Traceback (most recent call last)",
            "\u001b[0;32m<ipython-input-31-1ff2854a23c4>\u001b[0m in \u001b[0;36m<module>\u001b[0;34m()\u001b[0m\n\u001b[0;32m----> 1\u001b[0;31m \u001b[0minversa_singular\u001b[0m \u001b[0;34m=\u001b[0m \u001b[0mnp\u001b[0m\u001b[0;34m.\u001b[0m\u001b[0mlinalg\u001b[0m\u001b[0;34m.\u001b[0m\u001b[0minv\u001b[0m\u001b[0;34m(\u001b[0m\u001b[0msingular\u001b[0m\u001b[0;34m)\u001b[0m\u001b[0;34m\u001b[0m\u001b[0;34m\u001b[0m\u001b[0m\n\u001b[0m",
            "\u001b[0;32m<__array_function__ internals>\u001b[0m in \u001b[0;36minv\u001b[0;34m(*args, **kwargs)\u001b[0m\n",
            "\u001b[0;32m/usr/local/lib/python3.6/dist-packages/numpy/linalg/linalg.py\u001b[0m in \u001b[0;36minv\u001b[0;34m(a)\u001b[0m\n\u001b[1;32m    545\u001b[0m     \u001b[0msignature\u001b[0m \u001b[0;34m=\u001b[0m \u001b[0;34m'D->D'\u001b[0m \u001b[0;32mif\u001b[0m \u001b[0misComplexType\u001b[0m\u001b[0;34m(\u001b[0m\u001b[0mt\u001b[0m\u001b[0;34m)\u001b[0m \u001b[0;32melse\u001b[0m \u001b[0;34m'd->d'\u001b[0m\u001b[0;34m\u001b[0m\u001b[0;34m\u001b[0m\u001b[0m\n\u001b[1;32m    546\u001b[0m     \u001b[0mextobj\u001b[0m \u001b[0;34m=\u001b[0m \u001b[0mget_linalg_error_extobj\u001b[0m\u001b[0;34m(\u001b[0m\u001b[0m_raise_linalgerror_singular\u001b[0m\u001b[0;34m)\u001b[0m\u001b[0;34m\u001b[0m\u001b[0;34m\u001b[0m\u001b[0m\n\u001b[0;32m--> 547\u001b[0;31m     \u001b[0mainv\u001b[0m \u001b[0;34m=\u001b[0m \u001b[0m_umath_linalg\u001b[0m\u001b[0;34m.\u001b[0m\u001b[0minv\u001b[0m\u001b[0;34m(\u001b[0m\u001b[0ma\u001b[0m\u001b[0;34m,\u001b[0m \u001b[0msignature\u001b[0m\u001b[0;34m=\u001b[0m\u001b[0msignature\u001b[0m\u001b[0;34m,\u001b[0m \u001b[0mextobj\u001b[0m\u001b[0;34m=\u001b[0m\u001b[0mextobj\u001b[0m\u001b[0;34m)\u001b[0m\u001b[0;34m\u001b[0m\u001b[0;34m\u001b[0m\u001b[0m\n\u001b[0m\u001b[1;32m    548\u001b[0m     \u001b[0;32mreturn\u001b[0m \u001b[0mwrap\u001b[0m\u001b[0;34m(\u001b[0m\u001b[0mainv\u001b[0m\u001b[0;34m.\u001b[0m\u001b[0mastype\u001b[0m\u001b[0;34m(\u001b[0m\u001b[0mresult_t\u001b[0m\u001b[0;34m,\u001b[0m \u001b[0mcopy\u001b[0m\u001b[0;34m=\u001b[0m\u001b[0;32mFalse\u001b[0m\u001b[0;34m)\u001b[0m\u001b[0;34m)\u001b[0m\u001b[0;34m\u001b[0m\u001b[0;34m\u001b[0m\u001b[0m\n\u001b[1;32m    549\u001b[0m \u001b[0;34m\u001b[0m\u001b[0m\n",
            "\u001b[0;32m/usr/local/lib/python3.6/dist-packages/numpy/linalg/linalg.py\u001b[0m in \u001b[0;36m_raise_linalgerror_singular\u001b[0;34m(err, flag)\u001b[0m\n\u001b[1;32m     95\u001b[0m \u001b[0;34m\u001b[0m\u001b[0m\n\u001b[1;32m     96\u001b[0m \u001b[0;32mdef\u001b[0m \u001b[0m_raise_linalgerror_singular\u001b[0m\u001b[0;34m(\u001b[0m\u001b[0merr\u001b[0m\u001b[0;34m,\u001b[0m \u001b[0mflag\u001b[0m\u001b[0;34m)\u001b[0m\u001b[0;34m:\u001b[0m\u001b[0;34m\u001b[0m\u001b[0;34m\u001b[0m\u001b[0m\n\u001b[0;32m---> 97\u001b[0;31m     \u001b[0;32mraise\u001b[0m \u001b[0mLinAlgError\u001b[0m\u001b[0;34m(\u001b[0m\u001b[0;34m\"Singular matrix\"\u001b[0m\u001b[0;34m)\u001b[0m\u001b[0;34m\u001b[0m\u001b[0;34m\u001b[0m\u001b[0m\n\u001b[0m\u001b[1;32m     98\u001b[0m \u001b[0;34m\u001b[0m\u001b[0m\n\u001b[1;32m     99\u001b[0m \u001b[0;32mdef\u001b[0m \u001b[0m_raise_linalgerror_nonposdef\u001b[0m\u001b[0;34m(\u001b[0m\u001b[0merr\u001b[0m\u001b[0;34m,\u001b[0m \u001b[0mflag\u001b[0m\u001b[0;34m)\u001b[0m\u001b[0;34m:\u001b[0m\u001b[0;34m\u001b[0m\u001b[0;34m\u001b[0m\u001b[0m\n",
            "\u001b[0;31mLinAlgError\u001b[0m: Singular matrix"
          ]
        }
      ]
    },
    {
      "cell_type": "code",
      "metadata": {
        "id": "jxKhojbMj_uZ"
      },
      "source": [
        ""
      ],
      "execution_count": null,
      "outputs": []
    },
    {
      "cell_type": "markdown",
      "metadata": {
        "id": "eLLf-8SfkLVa"
      },
      "source": [
        "#Aplicación de la inversa de una matriz para resolver un sistema de ecuaciones lineales\n",
        "---\n",
        "\n"
      ]
    },
    {
      "cell_type": "code",
      "metadata": {
        "id": "ulRye6MFkQs9"
      },
      "source": [
        "#Si tengo un número muy cercano a cero, me muestra cero\n",
        "np.set_printoptions(suppress=True)"
      ],
      "execution_count": null,
      "outputs": []
    },
    {
      "cell_type": "code",
      "metadata": {
        "id": "WPf5l3CMkl9c",
        "colab": {
          "base_uri": "https://localhost:8080/",
          "height": 52
        },
        "outputId": "1b13d344-ac80-4907-b675-590d456b2ddf"
      },
      "source": [
        "A = np.array([[-3,1], [-2,1]])\n",
        "A"
      ],
      "execution_count": null,
      "outputs": [
        {
          "output_type": "execute_result",
          "data": {
            "text/plain": [
              "array([[-3,  1],\n",
              "       [-2,  1]])"
            ]
          },
          "metadata": {
            "tags": []
          },
          "execution_count": 33
        }
      ]
    },
    {
      "cell_type": "code",
      "metadata": {
        "id": "UnVGxdYXkvSY",
        "colab": {
          "base_uri": "https://localhost:8080/",
          "height": 52
        },
        "outputId": "1bb58439-0801-41cc-eb56-0da64bb077ae"
      },
      "source": [
        "b = np.array([[1],[1]])\n",
        "b"
      ],
      "execution_count": null,
      "outputs": [
        {
          "output_type": "execute_result",
          "data": {
            "text/plain": [
              "array([[1],\n",
              "       [1]])"
            ]
          },
          "metadata": {
            "tags": []
          },
          "execution_count": 34
        }
      ]
    },
    {
      "cell_type": "code",
      "metadata": {
        "id": "1IPGUl3wk7Sg",
        "colab": {
          "base_uri": "https://localhost:8080/",
          "height": 52
        },
        "outputId": "c72a0594-e58b-46b2-a4a3-3697dd0e5927"
      },
      "source": [
        "inversa_A = np.linalg.inv(A)\n",
        "A"
      ],
      "execution_count": null,
      "outputs": [
        {
          "output_type": "execute_result",
          "data": {
            "text/plain": [
              "array([[-3,  1],\n",
              "       [-2,  1]])"
            ]
          },
          "metadata": {
            "tags": []
          },
          "execution_count": 35
        }
      ]
    },
    {
      "cell_type": "code",
      "metadata": {
        "id": "hAHziqaTlCi-",
        "colab": {
          "base_uri": "https://localhost:8080/",
          "height": 52
        },
        "outputId": "02f16559-e043-4e12-9038-063677a4072b"
      },
      "source": [
        "x = inversa_A.dot(b)\n",
        "x"
      ],
      "execution_count": null,
      "outputs": [
        {
          "output_type": "execute_result",
          "data": {
            "text/plain": [
              "array([[0.],\n",
              "       [1.]])"
            ]
          },
          "metadata": {
            "tags": []
          },
          "execution_count": 36
        }
      ]
    },
    {
      "cell_type": "code",
      "metadata": {
        "id": "QvAYSiSnlcEs",
        "colab": {
          "base_uri": "https://localhost:8080/",
          "height": 52
        },
        "outputId": "9016bcdc-a92f-4622-ad1c-da9d7f602f79"
      },
      "source": [
        "print(A.dot(x))"
      ],
      "execution_count": null,
      "outputs": [
        {
          "output_type": "stream",
          "text": [
            "[[1.]\n",
            " [1.]]\n"
          ],
          "name": "stdout"
        }
      ]
    },
    {
      "cell_type": "code",
      "metadata": {
        "id": "rL_9DqfAlgJm",
        "colab": {
          "base_uri": "https://localhost:8080/",
          "height": 52
        },
        "outputId": "b68489c3-cbea-49ab-be1b-15d88575f468"
      },
      "source": [
        "sol_2 = inversa_A.dot(np.array([[3],[7]]))\n",
        "sol_2 "
      ],
      "execution_count": null,
      "outputs": [
        {
          "output_type": "execute_result",
          "data": {
            "text/plain": [
              "array([[ 4.],\n",
              "       [15.]])"
            ]
          },
          "metadata": {
            "tags": []
          },
          "execution_count": 39
        }
      ]
    },
    {
      "cell_type": "code",
      "metadata": {
        "id": "_SdeVU6Fl1kh",
        "colab": {
          "base_uri": "https://localhost:8080/",
          "height": 52
        },
        "outputId": "71bcce70-4464-4532-c981-82c2a1d20de1"
      },
      "source": [
        "print(A.dot(sol_2))"
      ],
      "execution_count": null,
      "outputs": [
        {
          "output_type": "stream",
          "text": [
            "[[3.]\n",
            " [7.]]\n"
          ],
          "name": "stdout"
        }
      ]
    },
    {
      "cell_type": "markdown",
      "metadata": {
        "id": "KiP2OX-0mMxZ"
      },
      "source": [
        "#Ejemplos de sistemas sin solución, con una solución y con infinitas soluciones\n",
        "\n",
        "\n",
        "---\n",
        "\n"
      ]
    },
    {
      "cell_type": "code",
      "metadata": {
        "id": "Xv2ocMmlmPeH"
      },
      "source": [
        "#importamos esto para poder interactuar con las gráficas - ESTO NO FUNCIONA EN COLAVB\n",
        "#%matplotlib notebook"
      ],
      "execution_count": null,
      "outputs": []
    },
    {
      "cell_type": "code",
      "metadata": {
        "id": "W5WqWekEmnpC"
      },
      "source": [
        "x = np.arange(-6,6)\n",
        "\n",
        "y_1 = 3*x + 5\n",
        "y_2 = -x + 3\n",
        "y_3 = 2*x + 1"
      ],
      "execution_count": null,
      "outputs": []
    },
    {
      "cell_type": "code",
      "metadata": {
        "id": "ck2PMAxKnOzn",
        "colab": {
          "base_uri": "https://localhost:8080/",
          "height": 269
        },
        "outputId": "2265729e-6345-4b26-a822-109e76a407dc"
      },
      "source": [
        "#Creamos una figura\n",
        "plt.figure()\n",
        "\n",
        "#curvas graficar\n",
        "plt.plot(x, y_1)\n",
        "plt.plot(x, y_2)\n",
        "plt.plot(x, y_3)\n",
        "\n",
        "#Definimos rangos de X y Y para visualizar\n",
        "plt.xlim(-8,8)\n",
        "plt.ylim(-8,8)\n",
        "\n",
        "#Formato de los ejes\n",
        "plt.axvline(x=0, color= 'grey')\n",
        "plt.axhline(y=0, color= 'grey')\n",
        "plt.show()"
      ],
      "execution_count": null,
      "outputs": [
        {
          "output_type": "display_data",
          "data": {
            "image/png": "[encoded data removed]",
            "text/plain": [
              "<Figure size 432x288 with 1 Axes>"
            ]
          },
          "metadata": {
            "tags": [],
            "needs_background": "light"
          }
        }
      ]
    },
    {
      "cell_type": "markdown",
      "metadata": {
        "id": "VEtIGQQspsnp"
      },
      "source": [
        "En un sistema sobredeterminado tenemos más ecuaciones que variables - NO TIENE SOLUCIÓN "
      ]
    },
    {
      "cell_type": "code",
      "metadata": {
        "id": "4OXNuFfNp6Nb"
      },
      "source": [
        "x = np.arange(-6,6)\n",
        "\n",
        "y_2 = -x + 3\n",
        "y_3 = 2*x + 1"
      ],
      "execution_count": null,
      "outputs": []
    },
    {
      "cell_type": "code",
      "metadata": {
        "id": "P_XFJxQXqknB",
        "colab": {
          "base_uri": "https://localhost:8080/",
          "height": 269
        },
        "outputId": "6615f0ff-f99b-4b49-da49-d74e4c1465c5"
      },
      "source": [
        "#Creamos una figura\n",
        "plt.figure()\n",
        "\n",
        "#curvas graficar\n",
        "plt.plot(x, y_2)\n",
        "plt.plot(x, y_3)\n",
        "\n",
        "#Definimos rangos de X y Y para visualizar\n",
        "plt.xlim(-8,8)\n",
        "plt.ylim(-8,8)\n",
        "\n",
        "#Formato de los ejes\n",
        "plt.axvline(x=0, color= 'grey')\n",
        "plt.axhline(y=0, color= 'grey')\n",
        "plt.show()"
      ],
      "execution_count": null,
      "outputs": [
        {
          "output_type": "display_data",
          "data": {
            "image/png": "[encoded data removed]",
            "text/plain": [
              "<Figure size 432x288 with 1 Axes>"
            ]
          },
          "metadata": {
            "tags": [],
            "needs_background": "light"
          }
        }
      ]
    },
    {
      "cell_type": "code",
      "metadata": {
        "id": "LzjWGjsQqxn0"
      },
      "source": [
        "x = np.arange(-6,6)\n",
        "\n",
        "y_3 = 2*x + 1"
      ],
      "execution_count": null,
      "outputs": []
    },
    {
      "cell_type": "code",
      "metadata": {
        "id": "hN608Re9q8cD",
        "colab": {
          "base_uri": "https://localhost:8080/",
          "height": 269
        },
        "outputId": "fe809188-cf62-4bab-f090-8a254501afa8"
      },
      "source": [
        "#Creamos una figura\n",
        "plt.figure()\n",
        "\n",
        "#curvas graficar\n",
        "plt.plot(x, y_3)\n",
        "\n",
        "#Definimos rangos de X y Y para visualizar\n",
        "plt.xlim(-8,8)\n",
        "plt.ylim(-8,8)\n",
        "\n",
        "#Formato de los ejes\n",
        "plt.axvline(x=0, color= 'grey')\n",
        "plt.axhline(y=0, color= 'grey')\n",
        "plt.show()"
      ],
      "execution_count": null,
      "outputs": [
        {
          "output_type": "display_data",
          "data": {
            "image/png": "[encoded data removed]",
            "text/plain": [
              "<Figure size 432x288 with 1 Axes>"
            ]
          },
          "metadata": {
            "tags": [],
            "needs_background": "light"
          }
        }
      ]
    },
    {
      "cell_type": "markdown",
      "metadata": {
        "id": "0ZSN2mVxrEwu"
      },
      "source": [
        "Este es un sistema indeterminado - \n",
        "Cualquier punto es solución: Tiene infinitas soluciones "
      ]
    },
    {
      "cell_type": "markdown",
      "metadata": {
        "id": "_gs0RSaJrRWl"
      },
      "source": [
        "#Graficar vectores\n",
        "\n",
        "---\n",
        "\n"
      ]
    },
    {
      "cell_type": "code",
      "metadata": {
        "id": "gUiMD_2-rWu3"
      },
      "source": [
        "v1 = np.array([2,5])\n",
        "v2 = np.array([3,2])"
      ],
      "execution_count": null,
      "outputs": []
    },
    {
      "cell_type": "code",
      "metadata": {
        "id": "yg0XleSYt9UY",
        "colab": {
          "base_uri": "https://localhost:8080/",
          "height": 54
        },
        "outputId": "c0692878-1371-4a6e-ff20-8241f220c907"
      },
      "source": [
        "from google.colab import drive\n",
        "drive.mount('/content/drive')"
      ],
      "execution_count": null,
      "outputs": [
        {
          "output_type": "stream",
          "text": [
            "Drive already mounted at /content/drive; to attempt to forcibly remount, call drive.mount(\"/content/drive\", force_remount=True).\n"
          ],
          "name": "stdout"
        }
      ]
    },
    {
      "cell_type": "code",
      "metadata": {
        "id": "tu1Slj5PuTjk"
      },
      "source": [
        "#Llamamos a nuestra función graficas \n",
        "\n",
        "%run '/content/drive/My Drive/Colab Notebooks/graficarVectores.ipynb'"
      ],
      "execution_count": null,
      "outputs": []
    },
    {
      "cell_type": "code",
      "metadata": {
        "id": "iVM9DADLs_OY",
        "colab": {
          "base_uri": "https://localhost:8080/",
          "height": 287
        },
        "outputId": "b36cbdd0-5d00-4698-f39b-7c9a12c6645f"
      },
      "source": [
        "graficarVectores([v1, v2], ['orange', 'blue'])\n",
        "plt.xlim(-1,8)\n",
        "plt.ylim(-1,8)"
      ],
      "execution_count": null,
      "outputs": [
        {
          "output_type": "execute_result",
          "data": {
            "text/plain": [
              "(-1.0, 8.0)"
            ]
          },
          "metadata": {
            "tags": []
          },
          "execution_count": 74
        },
        {
          "output_type": "display_data",
          "data": {
            "image/png": "[encoded data removed]",
            "text/plain": [
              "<Figure size 432x288 with 1 Axes>"
            ]
          },
          "metadata": {
            "tags": [],
            "needs_background": "light"
          }
        }
      ]
    },
    {
      "cell_type": "markdown",
      "metadata": {
        "id": "uVsk_zDoBY29"
      },
      "source": [
        ""
      ]
    },
    {
      "cell_type": "markdown",
      "metadata": {
        "id": "qJnIpLTWBadB"
      },
      "source": [
        "#¿Qué es una combinación líneal?\n",
        "\n",
        "\n",
        "---\n",
        "\n"
      ]
    },
    {
      "cell_type": "code",
      "metadata": {
        "id": "oy_8NZOHBeP1"
      },
      "source": [
        "%matplotlib inline\n",
        "import numpy as np\n",
        "import matplotlib.pyplot as plt"
      ],
      "execution_count": null,
      "outputs": []
    },
    {
      "cell_type": "code",
      "metadata": {
        "id": "bja1jO1CCcln"
      },
      "source": [
        "#Llamamos a nuestra función graficas \n",
        "\n",
        "%run '/content/drive/My Drive/Colab Notebooks/graficarVectores.ipynb'"
      ],
      "execution_count": null,
      "outputs": []
    },
    {
      "cell_type": "code",
      "metadata": {
        "id": "jOG3EVvpDLKN"
      },
      "source": [
        "v1 = np.array([2,5])\n",
        "v2 = np.array([3,2])"
      ],
      "execution_count": null,
      "outputs": []
    },
    {
      "cell_type": "code",
      "metadata": {
        "id": "iWHH6QP-DWz4",
        "colab": {
          "base_uri": "https://localhost:8080/",
          "height": 34
        },
        "outputId": "0aeeead7-d250-4a81-c9d1-5d7465b39b88"
      },
      "source": [
        "v1v2 = 2*v1+v2\n",
        "v1v2"
      ],
      "execution_count": null,
      "outputs": [
        {
          "output_type": "execute_result",
          "data": {
            "text/plain": [
              "array([ 7, 12])"
            ]
          },
          "metadata": {
            "tags": []
          },
          "execution_count": 28
        }
      ]
    },
    {
      "cell_type": "code",
      "metadata": {
        "id": "VqqoB8PiDokV",
        "colab": {
          "base_uri": "https://localhost:8080/",
          "height": 286
        },
        "outputId": "cc990a60-cce2-49e5-9aac-a4685bf8b59e"
      },
      "source": [
        "graficarVectores([v1,v2,v1v2], ['orange', 'blue', 'red'])\n",
        "plt.xlim(-1,8)\n",
        "plt.ylim(-1,12)"
      ],
      "execution_count": null,
      "outputs": [
        {
          "output_type": "execute_result",
          "data": {
            "text/plain": [
              "(-1.0, 12.0)"
            ]
          },
          "metadata": {
            "tags": []
          },
          "execution_count": 31
        },
        {
          "output_type": "display_data",
          "data": {
            "image/png": "[encoded data removed]",
            "text/plain": [
              "<Figure size 432x288 with 1 Axes>"
            ]
          },
          "metadata": {
            "tags": [],
            "needs_background": "light"
          }
        }
      ]
    },
    {
      "cell_type": "code",
      "metadata": {
        "id": "0ZaQSCWEEuUx",
        "colab": {
          "base_uri": "https://localhost:8080/",
          "height": 269
        },
        "outputId": "6beb3094-f9a8-485f-b34c-6cb0a790b15c"
      },
      "source": [
        "for a in range(-10,10):\n",
        "  for b in range(-10,10):\n",
        "    plt.scatter(v1[0]*a+ v2[0]*b, v1[1]*a + v2[1]*b,\n",
        "                marker = '.',\n",
        "                color = 'orange')\n",
        "    \n",
        "plt.xlim(-100,100)\n",
        "plt.ylim(-100,100)\n",
        "\n",
        "plt.axvline(x =0, color ='grey')\n",
        "plt.axhline(y =0, color ='grey')\n",
        "\n",
        "plt.show()"
      ],
      "execution_count": null,
      "outputs": [
        {
          "output_type": "display_data",
          "data": {
            "image/png": "[encoded data removed]",
            "text/plain": [
              "<Figure size 432x288 with 1 Axes>"
            ]
          },
          "metadata": {
            "tags": [],
            "needs_background": "light"
          }
        }
      ]
    },
    {
      "cell_type": "markdown",
      "metadata": {
        "id": "1m_QwXFBG-WH"
      },
      "source": [
        "#¿Qué es un espacio y un subespacio?\n",
        "\n",
        "\n",
        "---\n",
        "\n"
      ]
    },
    {
      "cell_type": "code",
      "metadata": {
        "id": "Yem5ARIEGuDE"
      },
      "source": [
        "%matplotlib inline"
      ],
      "execution_count": null,
      "outputs": []
    },
    {
      "cell_type": "code",
      "metadata": {
        "id": "Kj0KFw8vMbin"
      },
      "source": [
        "import numpy as np\n",
        "import matplotlib.pyplot as plt"
      ],
      "execution_count": null,
      "outputs": []
    },
    {
      "cell_type": "code",
      "metadata": {
        "id": "ASImukcBa3uG"
      },
      "source": [
        "v1 = np.array([1,1])\n",
        "v2 = np.array([-1,-1])"
      ],
      "execution_count": null,
      "outputs": []
    },
    {
      "cell_type": "code",
      "metadata": {
        "id": "GEen6Zm5bHka",
        "colab": {
          "base_uri": "https://localhost:8080/",
          "height": 265
        },
        "outputId": "74dc86a2-2b90-46e1-96b7-8f8058fd09a2"
      },
      "source": [
        "for a in range(-10,10):\n",
        "  for b in range(-10,10):\n",
        "    plt.scatter(v1[0]*a+ v2[0]*b, v1[1]*a + v2[1]*b,\n",
        "                marker = '.',\n",
        "                color = 'orange')\n",
        "    \n",
        "plt.xlim(-25,25)\n",
        "plt.ylim(-25,25)\n",
        "\n",
        "plt.axvline(x =0, color ='grey')\n",
        "plt.axhline(y =0, color ='grey')\n",
        "\n",
        "plt.show()"
      ],
      "execution_count": null,
      "outputs": [
        {
          "output_type": "display_data",
          "data": {
            "image/png": "[encoded data removed]",
            "text/plain": [
              "<Figure size 432x288 with 1 Axes>"
            ]
          },
          "metadata": {
            "tags": [],
            "needs_background": "light"
          }
        }
      ]
    },
    {
      "cell_type": "code",
      "metadata": {
        "id": "E9waXqXbe1co"
      },
      "source": [
        "v1 = np.array([1,0])\n",
        "v2 = np.array([2,-3])"
      ],
      "execution_count": null,
      "outputs": []
    },
    {
      "cell_type": "code",
      "metadata": {
        "id": "jRHYdwxrfY-C",
        "colab": {
          "base_uri": "https://localhost:8080/",
          "height": 265
        },
        "outputId": "5fee4a13-706e-4250-c059-82d93a5c8999"
      },
      "source": [
        "for a in range(-10,10):\n",
        "  for b in range(-10,10):\n",
        "    plt.scatter(v1[0]*a+ v2[0]*b, v1[1]*a + v2[1]*b,\n",
        "                marker = '.',\n",
        "                color = 'orange')\n",
        "    \n",
        "plt.xlim(-25,25)\n",
        "plt.ylim(-25,25)\n",
        "\n",
        "plt.axvline(x =0, color ='grey')\n",
        "plt.axhline(y =0, color ='grey')\n",
        "\n",
        "plt.show()"
      ],
      "execution_count": null,
      "outputs": [
        {
          "output_type": "display_data",
          "data": {
            "image/png": "[encoded data removed]",
            "text/plain": [
              "<Figure size 432x288 with 1 Axes>"
            ]
          },
          "metadata": {
            "tags": [],
            "needs_background": "light"
          }
        }
      ]
    },
    {
      "cell_type": "code",
      "metadata": {
        "id": "bSebVFRQgNOT"
      },
      "source": [
        "from mpl_toolkits.mplot3d import Axes3D\n",
        "\n",
        "v1 = np.array([1,0,0])\n",
        "v2 = np.array([2,-3,0])"
      ],
      "execution_count": null,
      "outputs": []
    },
    {
      "cell_type": "code",
      "metadata": {
        "id": "SJl652TOgvzQ"
      },
      "source": [
        "fig = plt.figure()\n",
        "ax = fig.add_subplot(111, projection= '3d')\n",
        "\n",
        "for a in range(-10,10):\n",
        "  for b in range(-10,10):\n",
        "    ax.scatter(v1[0]*a + v2[0]*b, v1[1]*a + v2[1]*b,\n",
        "               v1[2]*a + v2[2]*b,\n",
        "                marker = '.',\n",
        "                color = 'orange')\n",
        "    \n",
        "ax.set_xlabe('Eje X')\n",
        "ax.set_ylabe('Eje Y')\n",
        "ax.set_zlabe('Eje Z')\n",
        "    \n",
        "plt.xlim(-25,25)\n",
        "plt.ylim(-25,25)\n",
        "\n",
        "plt.axvline(x =0, color ='grey')\n",
        "plt.axhline(y =0, color ='grey')\n",
        "\n",
        "plt.show()"
      ],
      "execution_count": null,
      "outputs": []
    },
    {
      "cell_type": "markdown",
      "metadata": {
        "id": "Vzm9nczMiZpO"
      },
      "source": [
        "#Vectores linealmente independientes\n",
        "\n",
        "---\n",
        "\n"
      ]
    },
    {
      "cell_type": "code",
      "metadata": {
        "id": "zb7hYwqViG7D"
      },
      "source": [
        "%matplotlib inline"
      ],
      "execution_count": null,
      "outputs": []
    },
    {
      "cell_type": "code",
      "metadata": {
        "id": "RshqvkW0i4qA"
      },
      "source": [
        "import numpy as np\n",
        "import matplotlib.pyplot as plt"
      ],
      "execution_count": null,
      "outputs": []
    },
    {
      "cell_type": "code",
      "metadata": {
        "id": "zO6W7DAKi6vD",
        "colab": {
          "base_uri": "https://localhost:8080/",
          "height": 34
        },
        "outputId": "75a9828c-e44c-447e-a3d8-b201a7017b51"
      },
      "source": [
        "v1 = np.array([1,1])\n",
        "v2 = np.array([-1,-1])\n",
        "v1, v2"
      ],
      "execution_count": null,
      "outputs": [
        {
          "output_type": "execute_result",
          "data": {
            "text/plain": [
              "(array([1, 1]), array([-1, -1]))"
            ]
          },
          "metadata": {
            "tags": []
          },
          "execution_count": 41
        }
      ]
    },
    {
      "cell_type": "code",
      "metadata": {
        "id": "nW01KdvujCMx",
        "colab": {
          "base_uri": "https://localhost:8080/",
          "height": 265
        },
        "outputId": "2dcf76da-1436-4e3b-cea5-5d9725e79440"
      },
      "source": [
        "for a in range(-10,10):\n",
        "  for b in range(-10,10):\n",
        "    plt.scatter(v1[0]*a+ v2[0]*b, v1[1]*a + v2[1]*b,\n",
        "                marker = '.',\n",
        "                color = 'orange')\n",
        "    \n",
        "plt.xlim(-25,25)\n",
        "plt.ylim(-25,25)\n",
        "\n",
        "plt.axvline(x =0, color ='grey')\n",
        "plt.axhline(y =0, color ='grey')\n",
        "\n",
        "plt.show()"
      ],
      "execution_count": null,
      "outputs": [
        {
          "output_type": "display_data",
          "data": {
            "image/png": "[encoded data removed]",
            "text/plain": [
              "<Figure size 432x288 with 1 Axes>"
            ]
          },
          "metadata": {
            "tags": [],
            "needs_background": "light"
          }
        }
      ]
    },
    {
      "cell_type": "code",
      "metadata": {
        "id": "dTcqC9OljlGo",
        "colab": {
          "base_uri": "https://localhost:8080/",
          "height": 34
        },
        "outputId": "965d866f-1920-4e23-9e01-b5be10d4d087"
      },
      "source": [
        "#V1 no es linealmente independiente (Es como si V1 solo fuese el producto por un escalar de V2)\n",
        "print(v1 == -1*v2)"
      ],
      "execution_count": null,
      "outputs": [
        {
          "output_type": "stream",
          "text": [
            "[ True  True]\n"
          ],
          "name": "stdout"
        }
      ]
    },
    {
      "cell_type": "markdown",
      "metadata": {
        "id": "lSGcifI9knZy"
      },
      "source": [
        "#Validar que una matriz tenga inversa\n",
        "\n",
        "---\n",
        "\n"
      ]
    },
    {
      "cell_type": "code",
      "metadata": {
        "id": "P0_iK1BKkAtK"
      },
      "source": [
        "import numpy as np\n"
      ],
      "execution_count": null,
      "outputs": []
    },
    {
      "cell_type": "code",
      "metadata": {
        "id": "bMN7ZzLokrNp"
      },
      "source": [
        "A = np.array([\n",
        "               [0,1,0,0],\n",
        "               [0,0,1,0],\n",
        "               [0,1,1,0],\n",
        "               [1,0,0,1],\n",
        "              ])\n"
      ],
      "execution_count": null,
      "outputs": []
    },
    {
      "cell_type": "code",
      "metadata": {
        "id": "ch0iE675lK9D",
        "colab": {
          "base_uri": "https://localhost:8080/",
          "height": 34
        },
        "outputId": "e6228e24-7df8-49c2-be49-6a9821b89aeb"
      },
      "source": [
        "lambdas, V = np.linalg.eig(A.T)\n",
        "\n",
        "print(A[lambdas == 0, :])"
      ],
      "execution_count": null,
      "outputs": [
        {
          "output_type": "stream",
          "text": [
            "[[0 1 1 0]]\n"
          ],
          "name": "stdout"
        }
      ]
    },
    {
      "cell_type": "code",
      "metadata": {
        "id": "bordl7ZqmR8j",
        "colab": {
          "base_uri": "https://localhost:8080/",
          "height": 358
        },
        "outputId": "2e01937c-73b9-46d3-c99f-a1b021c84bc1"
      },
      "source": [
        "#Al tener un vector lineamlemte independiente, la matriz es singular, no tendrá inversa\n",
        "np.linalg.inv(A)"
      ],
      "execution_count": null,
      "outputs": [
        {
          "output_type": "error",
          "ename": "LinAlgError",
          "evalue": "ignored",
          "traceback": [
            "\u001b[0;31m---------------------------------------------------------------------------\u001b[0m",
            "\u001b[0;31mLinAlgError\u001b[0m                               Traceback (most recent call last)",
            "\u001b[0;32m<ipython-input-50-ccf1e6c89c25>\u001b[0m in \u001b[0;36m<module>\u001b[0;34m()\u001b[0m\n\u001b[1;32m      1\u001b[0m \u001b[0;31m#Al tener un vector lineamlemte independiente, la matriz es singular, no tendrá inversa\u001b[0m\u001b[0;34m\u001b[0m\u001b[0;34m\u001b[0m\u001b[0;34m\u001b[0m\u001b[0m\n\u001b[0;32m----> 2\u001b[0;31m \u001b[0mnp\u001b[0m\u001b[0;34m.\u001b[0m\u001b[0mlinalg\u001b[0m\u001b[0;34m.\u001b[0m\u001b[0minv\u001b[0m\u001b[0;34m(\u001b[0m\u001b[0mA\u001b[0m\u001b[0;34m)\u001b[0m\u001b[0;34m\u001b[0m\u001b[0;34m\u001b[0m\u001b[0m\n\u001b[0m",
            "\u001b[0;32m<__array_function__ internals>\u001b[0m in \u001b[0;36minv\u001b[0;34m(*args, **kwargs)\u001b[0m\n",
            "\u001b[0;32m/usr/local/lib/python3.6/dist-packages/numpy/linalg/linalg.py\u001b[0m in \u001b[0;36minv\u001b[0;34m(a)\u001b[0m\n\u001b[1;32m    545\u001b[0m     \u001b[0msignature\u001b[0m \u001b[0;34m=\u001b[0m \u001b[0;34m'D->D'\u001b[0m \u001b[0;32mif\u001b[0m \u001b[0misComplexType\u001b[0m\u001b[0;34m(\u001b[0m\u001b[0mt\u001b[0m\u001b[0;34m)\u001b[0m \u001b[0;32melse\u001b[0m \u001b[0;34m'd->d'\u001b[0m\u001b[0;34m\u001b[0m\u001b[0;34m\u001b[0m\u001b[0m\n\u001b[1;32m    546\u001b[0m     \u001b[0mextobj\u001b[0m \u001b[0;34m=\u001b[0m \u001b[0mget_linalg_error_extobj\u001b[0m\u001b[0;34m(\u001b[0m\u001b[0m_raise_linalgerror_singular\u001b[0m\u001b[0;34m)\u001b[0m\u001b[0;34m\u001b[0m\u001b[0;34m\u001b[0m\u001b[0m\n\u001b[0;32m--> 547\u001b[0;31m     \u001b[0mainv\u001b[0m \u001b[0;34m=\u001b[0m \u001b[0m_umath_linalg\u001b[0m\u001b[0;34m.\u001b[0m\u001b[0minv\u001b[0m\u001b[0;34m(\u001b[0m\u001b[0ma\u001b[0m\u001b[0;34m,\u001b[0m \u001b[0msignature\u001b[0m\u001b[0;34m=\u001b[0m\u001b[0msignature\u001b[0m\u001b[0;34m,\u001b[0m \u001b[0mextobj\u001b[0m\u001b[0;34m=\u001b[0m\u001b[0mextobj\u001b[0m\u001b[0;34m)\u001b[0m\u001b[0;34m\u001b[0m\u001b[0;34m\u001b[0m\u001b[0m\n\u001b[0m\u001b[1;32m    548\u001b[0m     \u001b[0;32mreturn\u001b[0m \u001b[0mwrap\u001b[0m\u001b[0;34m(\u001b[0m\u001b[0mainv\u001b[0m\u001b[0;34m.\u001b[0m\u001b[0mastype\u001b[0m\u001b[0;34m(\u001b[0m\u001b[0mresult_t\u001b[0m\u001b[0;34m,\u001b[0m \u001b[0mcopy\u001b[0m\u001b[0;34m=\u001b[0m\u001b[0;32mFalse\u001b[0m\u001b[0;34m)\u001b[0m\u001b[0;34m)\u001b[0m\u001b[0;34m\u001b[0m\u001b[0;34m\u001b[0m\u001b[0m\n\u001b[1;32m    549\u001b[0m \u001b[0;34m\u001b[0m\u001b[0m\n",
            "\u001b[0;32m/usr/local/lib/python3.6/dist-packages/numpy/linalg/linalg.py\u001b[0m in \u001b[0;36m_raise_linalgerror_singular\u001b[0;34m(err, flag)\u001b[0m\n\u001b[1;32m     95\u001b[0m \u001b[0;34m\u001b[0m\u001b[0m\n\u001b[1;32m     96\u001b[0m \u001b[0;32mdef\u001b[0m \u001b[0m_raise_linalgerror_singular\u001b[0m\u001b[0;34m(\u001b[0m\u001b[0merr\u001b[0m\u001b[0;34m,\u001b[0m \u001b[0mflag\u001b[0m\u001b[0;34m)\u001b[0m\u001b[0;34m:\u001b[0m\u001b[0;34m\u001b[0m\u001b[0;34m\u001b[0m\u001b[0m\n\u001b[0;32m---> 97\u001b[0;31m     \u001b[0;32mraise\u001b[0m \u001b[0mLinAlgError\u001b[0m\u001b[0;34m(\u001b[0m\u001b[0;34m\"Singular matrix\"\u001b[0m\u001b[0;34m)\u001b[0m\u001b[0;34m\u001b[0m\u001b[0;34m\u001b[0m\u001b[0m\n\u001b[0m\u001b[1;32m     98\u001b[0m \u001b[0;34m\u001b[0m\u001b[0m\n\u001b[1;32m     99\u001b[0m \u001b[0;32mdef\u001b[0m \u001b[0m_raise_linalgerror_nonposdef\u001b[0m\u001b[0;34m(\u001b[0m\u001b[0merr\u001b[0m\u001b[0;34m,\u001b[0m \u001b[0mflag\u001b[0m\u001b[0;34m)\u001b[0m\u001b[0;34m:\u001b[0m\u001b[0;34m\u001b[0m\u001b[0;34m\u001b[0m\u001b[0m\n",
            "\u001b[0;31mLinAlgError\u001b[0m: Singular matrix"
          ]
        }
      ]
    },
    {
      "cell_type": "markdown",
      "metadata": {
        "id": "g62143BEkg-Q"
      },
      "source": [
        ""
      ]
    },
    {
      "cell_type": "markdown",
      "metadata": {
        "id": "EY9MFVhMobzX"
      },
      "source": [
        "#Qué es una norma y para qué se usa. Desigualdad Triangular\n",
        "\n",
        "---\n",
        "\n"
      ]
    },
    {
      "cell_type": "code",
      "metadata": {
        "id": "g2IWba5EpUR-",
        "colab": {
          "base_uri": "https://localhost:8080/"
        },
        "outputId": "55cb5260-7804-485c-922f-229c12f54853"
      },
      "source": [
        "%matplotlib inline\n",
        "import numpy as np\n",
        "import matplotlib.pyplot as plt\n",
        "import seaborn as sns"
      ],
      "execution_count": null,
      "outputs": [
        {
          "output_type": "stream",
          "text": [
            "/usr/local/lib/python3.6/dist-packages/statsmodels/tools/_testing.py:19: FutureWarning: pandas.util.testing is deprecated. Use the functions in the public API at pandas.testing instead.\n",
            "  import pandas.util.testing as tm\n"
          ],
          "name": "stderr"
        }
      ]
    },
    {
      "cell_type": "code",
      "metadata": {
        "id": "A2McwMJZpdqp",
        "colab": {
          "base_uri": "https://localhost:8080/"
        },
        "outputId": "de1ddc1a-9f5b-4942-f0a4-ea806723482f"
      },
      "source": [
        "v1 = np.array([2,7])\n",
        "v2 = np.array([3,5])\n",
        "v1, v2"
      ],
      "execution_count": null,
      "outputs": [
        {
          "output_type": "execute_result",
          "data": {
            "text/plain": [
              "(array([2, 7]), array([3, 5]))"
            ]
          },
          "metadata": {
            "tags": []
          },
          "execution_count": 67
        }
      ]
    },
    {
      "cell_type": "code",
      "metadata": {
        "id": "uXVb0MF5pmWh",
        "colab": {
          "base_uri": "https://localhost:8080/",
          "height": 34
        },
        "outputId": "fddea2a3-7a93-415b-c62b-0798f0aff85e"
      },
      "source": [
        "v1v2 = v1+v2\n",
        "v1v2"
      ],
      "execution_count": null,
      "outputs": [
        {
          "output_type": "execute_result",
          "data": {
            "text/plain": [
              "array([ 5, 12])"
            ]
          },
          "metadata": {
            "tags": []
          },
          "execution_count": 68
        }
      ]
    },
    {
      "cell_type": "code",
      "metadata": {
        "id": "JX8GwO5gpxpE",
        "colab": {
          "base_uri": "https://localhost:8080/"
        },
        "outputId": "2ba9b301-8c14-42fe-f8f3-a1f8cde0bc8d"
      },
      "source": [
        "np.linalg.norm(v1v2)"
      ],
      "execution_count": null,
      "outputs": [
        {
          "output_type": "execute_result",
          "data": {
            "text/plain": [
              "13.0"
            ]
          },
          "metadata": {
            "tags": []
          },
          "execution_count": 69
        }
      ]
    },
    {
      "cell_type": "code",
      "metadata": {
        "id": "pqywbsk5p819",
        "colab": {
          "base_uri": "https://localhost:8080/",
          "height": 34
        },
        "outputId": "3b3678f5-789e-4b6e-fc79-87c59a97524b"
      },
      "source": [
        "#norma(v1v2) <= norma(v1) + norma(v2)\n",
        "norma_v1 = np.linalg.norm(v1)\n",
        "norma_v2 = np.linalg.norm(v2)\n",
        "norma_v1v2 = np.linalg.norm(v1v2)\n",
        "\n",
        "print(norma_v1v2 <= norma_v1 + norma_v2)"
      ],
      "execution_count": null,
      "outputs": [
        {
          "output_type": "stream",
          "text": [
            "True\n"
          ],
          "name": "stdout"
        }
      ]
    },
    {
      "cell_type": "code",
      "metadata": {
        "id": "0xOXvU0Kqgtb",
        "colab": {
          "base_uri": "https://localhost:8080/",
          "height": 34
        },
        "outputId": "36500896-74c9-4b37-e9a8-26dd1ebbfe15"
      },
      "source": [
        "print(norma_v1 + norma_v2)"
      ],
      "execution_count": null,
      "outputs": [
        {
          "output_type": "stream",
          "text": [
            "13.11106178412582\n"
          ],
          "name": "stdout"
        }
      ]
    },
    {
      "cell_type": "code",
      "metadata": {
        "id": "EIHOPXTmqz26"
      },
      "source": [
        "v1 = np.array([0,0,2,7])\n",
        "v2 = np.array([0,0,3,5])\n",
        "\n",
        "v1_aux = np.array([v1[2], v1[3], v2[2], v2[3]])\n",
        "v1v2 = np.array([0,0,5,12])"
      ],
      "execution_count": null,
      "outputs": []
    },
    {
      "cell_type": "code",
      "metadata": {
        "id": "fushF_W0rh2S",
        "colab": {
          "base_uri": "https://localhost:8080/",
          "height": 282
        },
        "outputId": "28fc1ed7-75f9-49c6-8075-e08725bf073f"
      },
      "source": [
        "plt.quiver([v1[0], v1_aux[0], v1v2[0]],\n",
        "           [v1[1], v1_aux[1], v1v2[1]],\n",
        "           [v1[2], v1_aux[2], v1v2[2]],\n",
        "           [v1[3], v1_aux[3], v1v2[3]],\n",
        "           angles = 'xy', scale_units = 'xy', scale = 1,\n",
        "           color = sns.color_palette()\n",
        "           )\n",
        "plt.xlim(-0.5,6)\n",
        "plt.ylim(-0.5,15)"
      ],
      "execution_count": null,
      "outputs": [
        {
          "output_type": "execute_result",
          "data": {
            "text/plain": [
              "(-0.5, 15.0)"
            ]
          },
          "metadata": {
            "tags": []
          },
          "execution_count": 75
        },
        {
          "output_type": "display_data",
          "data": {
            "image/png": "[encoded data removed]",
            "text/plain": [
              "<Figure size 432x288 with 1 Axes>"
            ]
          },
          "metadata": {
            "tags": [],
            "needs_background": "light"
          }
        }
      ]
    },
    {
      "cell_type": "markdown",
      "metadata": {
        "id": "fe-eRPsAssBH"
      },
      "source": [
        "#Tipos de normas: norma 0, norma 1, norma 2, norma infinito y norma L2 al cuadrado\n",
        "\n",
        "\n",
        "---\n",
        "\n"
      ]
    },
    {
      "cell_type": "markdown",
      "metadata": {
        "id": "YZ7qK11os5IV"
      },
      "source": [
        "**Nota.**\n",
        "\n",
        "Tipos de normas: norma 0, norma 1, norma 2, norma infinito y norma L2 al cuadrado.\n",
        "\n",
        "La norma se usa en machine learning para encontrar errores.\n",
        "\n",
        "*   La norma **L0**: devuelve la cantidad de elementos diferentes de 0 del vector.\n",
        "\n",
        "*   La norma **L1**: devuelve la suma de los valores absolutos de los elementos del vector.\n",
        "*   La norma **L2**: devuelve la distancia euclidiana La magnitud del vector desde su origen.\n",
        "\n",
        "\n",
        "*   La norma cuadrada **(L2)(L2)**: Es aplicar la norma del vector aplicando la norma asimismo.\n",
        "\n",
        "\n",
        "*   La norma infinito: devuelve el valor absoluto más grande del vector\n",
        "\n",
        "\n",
        "\n",
        "\n",
        "\n",
        "\n",
        "\n",
        "\n",
        "\n"
      ]
    },
    {
      "cell_type": "code",
      "metadata": {
        "id": "ag7HkUi0swQ0"
      },
      "source": [
        "import numpy as np"
      ],
      "execution_count": null,
      "outputs": []
    },
    {
      "cell_type": "code",
      "metadata": {
        "id": "1uQW_cnru34S",
        "colab": {
          "base_uri": "https://localhost:8080/",
          "height": 34
        },
        "outputId": "20e15de6-72d4-4489-cea0-63dd86fb676d"
      },
      "source": [
        "vector = np.array([1,2,0,5,6,0])\n",
        "\n",
        "#Calculamos la norma 0 (L0) - su salida es 4 ya que tenemos 4 valores distintos de cero en el vector \n",
        "np.linalg.norm(vector,ord = 0 )"
      ],
      "execution_count": null,
      "outputs": [
        {
          "output_type": "execute_result",
          "data": {
            "text/plain": [
              "4.0"
            ]
          },
          "metadata": {
            "tags": []
          },
          "execution_count": 76
        }
      ]
    },
    {
      "cell_type": "code",
      "metadata": {
        "id": "HZxcz-6OvdZe",
        "colab": {
          "base_uri": "https://localhost:8080/",
          "height": 34
        },
        "outputId": "d359356f-ee4c-446d-c631-8810d408de3a"
      },
      "source": [
        "vector = np.array([1,-1,1,-1,1,1])\n",
        "\n",
        "#Calculamos la norma 1 (L1) - su salida es la suma de los valores absolutos del vector\n",
        "np.linalg.norm(vector,ord = 0 )"
      ],
      "execution_count": null,
      "outputs": [
        {
          "output_type": "execute_result",
          "data": {
            "text/plain": [
              "6.0"
            ]
          },
          "metadata": {
            "tags": []
          },
          "execution_count": 77
        }
      ]
    },
    {
      "cell_type": "code",
      "metadata": {
        "id": "-2tBH3Opvz9Z",
        "colab": {
          "base_uri": "https://localhost:8080/",
          "height": 51
        },
        "outputId": "d4061060-ad22-4002-a71b-10e1dd9c7705"
      },
      "source": [
        "vector = np.array([1,1])\n",
        "\n",
        "#Calculamos la norma 2 (L2) - su salida es la distancia euclidiana\n",
        "print(np.linalg.norm(vector, ord = 2 ))\n",
        "\n",
        "#np con linalg por defualt nos da L2\n",
        "np.linalg.norm(vector)"
      ],
      "execution_count": null,
      "outputs": [
        {
          "output_type": "stream",
          "text": [
            "1.4142135623730951\n"
          ],
          "name": "stdout"
        },
        {
          "output_type": "execute_result",
          "data": {
            "text/plain": [
              "1.4142135623730951"
            ]
          },
          "metadata": {
            "tags": []
          },
          "execution_count": 81
        }
      ]
    },
    {
      "cell_type": "code",
      "metadata": {
        "id": "uLbA2NP6wlLj",
        "colab": {
          "base_uri": "https://localhost:8080/",
          "height": 34
        },
        "outputId": "b02a96ad-a7dc-4488-de78-9e75d74df5a7"
      },
      "source": [
        "vector = np.array([1,2,3,4,5,6])\n",
        "\n",
        "#Calculamos la norma cuadrada (L2*L2) - su salida es el cudrado de la distancia euclidiana\n",
        "np.linalg.norm(vector)**2"
      ],
      "execution_count": null,
      "outputs": [
        {
          "output_type": "execute_result",
          "data": {
            "text/plain": [
              "91.0"
            ]
          },
          "metadata": {
            "tags": []
          },
          "execution_count": 83
        }
      ]
    },
    {
      "cell_type": "code",
      "metadata": {
        "id": "yrX7NRx7xECB",
        "colab": {
          "base_uri": "https://localhost:8080/",
          "height": 34
        },
        "outputId": "a4708ba3-c842-4218-cd8a-208c5da68b79"
      },
      "source": [
        "#Es igual a esto L2*L2\n",
        "print(vector.T.dot(vector))"
      ],
      "execution_count": null,
      "outputs": [
        {
          "output_type": "stream",
          "text": [
            "91\n"
          ],
          "name": "stdout"
        }
      ]
    },
    {
      "cell_type": "code",
      "metadata": {
        "id": "OYDS6swOxOya",
        "colab": {
          "base_uri": "https://localhost:8080/",
          "height": 34
        },
        "outputId": "7e0f2675-8c26-493c-b748-c3041bed3ef8"
      },
      "source": [
        "vector = np.array([1,2,3,-100])\n",
        "\n",
        "#Calculamos la norma infinito (usamos el simbolo \"np.inf\" para invocar al infinito)\n",
        "np.linalg.norm(vector, ord=np.inf)"
      ],
      "execution_count": null,
      "outputs": [
        {
          "output_type": "execute_result",
          "data": {
            "text/plain": [
              "100.0"
            ]
          },
          "metadata": {
            "tags": []
          },
          "execution_count": 85
        }
      ]
    },
    {
      "cell_type": "markdown",
      "metadata": {
        "id": "bvEZpzY0y9mD"
      },
      "source": [
        "#El producto interno como función de una norma y su visualización\n",
        "\n",
        "---\n",
        "\n"
      ]
    },
    {
      "cell_type": "markdown",
      "metadata": {
        "id": "wku3x4_-zAJa"
      },
      "source": [
        "Podemos expresar al producto interno de dos vectores como la norma de cada vector multiplicado por el ángulo que están formando."
      ]
    },
    {
      "cell_type": "code",
      "metadata": {
        "id": "NekDYPzmzi9U"
      },
      "source": [
        "%matplotlib inline\n",
        "import numpy as np\n",
        "import matplotlib.pyplot as plt\n",
        "import seaborn as sns"
      ],
      "execution_count": null,
      "outputs": []
    },
    {
      "cell_type": "code",
      "metadata": {
        "id": "wteWmuxTz99s"
      },
      "source": [
        "v1 = np.array([0,0,0,3])\n",
        "v2 = np.array([0,0,3,3])"
      ],
      "execution_count": null,
      "outputs": []
    },
    {
      "cell_type": "code",
      "metadata": {
        "id": "5O1LDKEM0FUk",
        "colab": {
          "base_uri": "https://localhost:8080/",
          "height": 286
        },
        "outputId": "88ad8b9b-c875-436e-a093-b6b48a5fc563"
      },
      "source": [
        "plt.xlim(-2,6)\n",
        "plt.ylim(-2,6)\n",
        "\n",
        "plt.quiver( [v1[0], v2[0]],\n",
        "            [v1[1], v2[1]],\n",
        "            [v1[2], v2[2]],\n",
        "            [v1[3], v2[3]], \n",
        "            angles = 'xy', scale_units = 'xy', scale = 1,\n",
        "            color = sns.color_palette()\n",
        "           )\n",
        "\n"
      ],
      "execution_count": null,
      "outputs": [
        {
          "output_type": "execute_result",
          "data": {
            "text/plain": [
              "<matplotlib.quiver.Quiver at 0x7efc37a34b70>"
            ]
          },
          "metadata": {
            "tags": []
          },
          "execution_count": 89
        },
        {
          "output_type": "display_data",
          "data": {
            "image/png": "[encoded data removed]",
            "text/plain": [
              "<Figure size 432x288 with 1 Axes>"
            ]
          },
          "metadata": {
            "tags": [],
            "needs_background": "light"
          }
        }
      ]
    },
    {
      "cell_type": "code",
      "metadata": {
        "id": "JTnVH00p1G2n",
        "colab": {
          "base_uri": "https://localhost:8080/",
          "height": 34
        },
        "outputId": "6a67f7ee-e5d1-4851-dfc9-af8b6e69e3aa"
      },
      "source": [
        "v1 = np.array([0,3])\n",
        "v2 = np.array([3,3])\n",
        "\n",
        "print(v1.T.dot(v2))"
      ],
      "execution_count": null,
      "outputs": [
        {
          "output_type": "stream",
          "text": [
            "9\n"
          ],
          "name": "stdout"
        }
      ]
    },
    {
      "cell_type": "code",
      "metadata": {
        "id": "TdP6BEUu1ULt",
        "colab": {
          "base_uri": "https://localhost:8080/",
          "height": 34
        },
        "outputId": "4749cfb6-dc59-4c49-d244-43bcd4e9642e"
      },
      "source": [
        "norma_v1 = np.linalg.norm(v1)\n",
        "norma_v2 = np.linalg.norm(v2)\n",
        "\n",
        "print(norma_v1 * norma_v2 * np.cos(np.deg2rad(45)))"
      ],
      "execution_count": null,
      "outputs": [
        {
          "output_type": "stream",
          "text": [
            "9.0\n"
          ],
          "name": "stdout"
        }
      ]
    },
    {
      "cell_type": "markdown",
      "metadata": {
        "id": "tCcr8AO42BKZ"
      },
      "source": [
        "En Machine learning se utiliza la similitud coseno, por ejemplo, si somos capaces de representar en un vector todas las palabras de un documento y en otro vector todas las palabras de otro documento, si al conmpararlos ese ángulo fuera pequeño, eso quiere decir que esos documebto se parecen mucho, si difieren en 90 grados esos dos documentos no tiene que ver uno con otro."
      ]
    },
    {
      "cell_type": "markdown",
      "metadata": {
        "id": "aSsyW2N_3S1r"
      },
      "source": [
        "#La matriz diagonal y la matriz simétrica: sus propiedades\n",
        "\n",
        "\n",
        "---\n",
        "\n"
      ]
    },
    {
      "cell_type": "code",
      "metadata": {
        "id": "mSsb-J9i2Ata"
      },
      "source": [
        "import numpy as np"
      ],
      "execution_count": null,
      "outputs": []
    },
    {
      "cell_type": "code",
      "metadata": {
        "id": "-JCe65HN16AV",
        "colab": {
          "base_uri": "https://localhost:8080/",
          "height": 102
        },
        "outputId": "624d4ec7-6d71-4823-b1c3-b5987d58a4c4"
      },
      "source": [
        "©\n",
        "matriz = np.diag(vector)\n",
        "matriz"
      ],
      "execution_count": null,
      "outputs": [
        {
          "output_type": "execute_result",
          "data": {
            "text/plain": [
              "array([[1, 0, 0, 0, 0],\n",
              "       [0, 2, 0, 0, 0],\n",
              "       [0, 0, 3, 0, 0],\n",
              "       [0, 0, 0, 4, 0],\n",
              "       [0, 0, 0, 0, 5]])"
            ]
          },
          "metadata": {
            "tags": []
          },
          "execution_count": 95
        }
      ]
    },
    {
      "cell_type": "code",
      "metadata": {
        "id": "oWGGZvax32i7",
        "colab": {
          "base_uri": "https://localhost:8080/",
          "height": 85
        },
        "outputId": "5959b713-7781-4873-fc04-c1cc4deeb641"
      },
      "source": [
        "#Ejemplo de una matriz diagonal pero no cudrada\n",
        "print(matriz[0:4,0:3])"
      ],
      "execution_count": null,
      "outputs": [
        {
          "output_type": "stream",
          "text": [
            "[[1 0 0]\n",
            " [0 2 0]\n",
            " [0 0 3]\n",
            " [0 0 0]]\n"
          ],
          "name": "stdout"
        }
      ]
    },
    {
      "cell_type": "code",
      "metadata": {
        "id": "3ChThpI74EUU",
        "colab": {
          "base_uri": "https://localhost:8080/",
          "height": 68
        },
        "outputId": "706fed16-8f74-4742-9d1e-1ded897f91d1"
      },
      "source": [
        "#Ejemplo de una matriz diagonal pero no cudrada\n",
        "print(matriz[0:3,0:4])"
      ],
      "execution_count": null,
      "outputs": [
        {
          "output_type": "stream",
          "text": [
            "[[1 0 0 0]\n",
            " [0 2 0 0]\n",
            " [0 0 3 0]]\n"
          ],
          "name": "stdout"
        }
      ]
    },
    {
      "cell_type": "code",
      "metadata": {
        "id": "0BswyTiv4LuD",
        "colab": {
          "base_uri": "https://localhost:8080/",
          "height": 85
        },
        "outputId": "d3b13f10-d7b8-44e5-ba53-8843707f297c"
      },
      "source": [
        " A = np.diag([2,3,4,5])\n",
        " A"
      ],
      "execution_count": null,
      "outputs": [
        {
          "output_type": "execute_result",
          "data": {
            "text/plain": [
              "array([[2, 0, 0, 0],\n",
              "       [0, 3, 0, 0],\n",
              "       [0, 0, 4, 0],\n",
              "       [0, 0, 0, 5]])"
            ]
          },
          "metadata": {
            "tags": []
          },
          "execution_count": 100
        }
      ]
    },
    {
      "cell_type": "code",
      "metadata": {
        "id": "QSMEUmb67QXv",
        "colab": {
          "base_uri": "https://localhost:8080/",
          "height": 51
        },
        "outputId": "a1b11008-2613-4ca8-dcf7-c8921f9cf83e"
      },
      "source": [
        "v1 = np.array([1,1,1,1])\n",
        "print(v1)\n",
        "\n",
        "print(A.dot(v1.T))"
      ],
      "execution_count": null,
      "outputs": [
        {
          "output_type": "stream",
          "text": [
            "[1 1 1 1]\n",
            "[2 3 4 5]\n"
          ],
          "name": "stdout"
        }
      ]
    },
    {
      "cell_type": "code",
      "metadata": {
        "id": "55z3BW3m7h2R",
        "colab": {
          "base_uri": "https://localhost:8080/",
          "height": 85
        },
        "outputId": "273fd28e-f6f4-496d-f974-88f10082bb8e"
      },
      "source": [
        "A_inv = np.diag([1/2,1/3,1/4,1/5])\n",
        "A_inv"
      ],
      "execution_count": null,
      "outputs": [
        {
          "output_type": "execute_result",
          "data": {
            "text/plain": [
              "array([[0.5       , 0.        , 0.        , 0.        ],\n",
              "       [0.        , 0.33333333, 0.        , 0.        ],\n",
              "       [0.        , 0.        , 0.25      , 0.        ],\n",
              "       [0.        , 0.        , 0.        , 0.2       ]])"
            ]
          },
          "metadata": {
            "tags": []
          },
          "execution_count": 106
        }
      ]
    },
    {
      "cell_type": "markdown",
      "metadata": {
        "id": "9FzP9iRzvzn-"
      },
      "source": [
        ""
      ]
    },
    {
      "cell_type": "code",
      "metadata": {
        "id": "b7fE-M069I5V",
        "colab": {
          "base_uri": "https://localhost:8080/",
          "height": 85
        },
        "outputId": "a863d0c0-c151-44c5-bd6f-d2ea73509cef"
      },
      "source": [
        "identidad = A.dot(A_inv)\n",
        "identidad"
      ],
      "execution_count": null,
      "outputs": [
        {
          "output_type": "execute_result",
          "data": {
            "text/plain": [
              "array([[1., 0., 0., 0.],\n",
              "       [0., 1., 0., 0.],\n",
              "       [0., 0., 1., 0.],\n",
              "       [0., 0., 0., 1.]])"
            ]
          },
          "metadata": {
            "tags": []
          },
          "execution_count": 108
        }
      ]
    },
    {
      "cell_type": "code",
      "metadata": {
        "id": "AlifteuU9ajR",
        "colab": {
          "base_uri": "https://localhost:8080/",
          "height": 85
        },
        "outputId": "d7dfce04-5bec-4aad-c700-7249aabf816f"
      },
      "source": [
        "A_inv_calc = np.linalg.inv(A)\n",
        "A_inv_calc "
      ],
      "execution_count": null,
      "outputs": [
        {
          "output_type": "execute_result",
          "data": {
            "text/plain": [
              "array([[0.5       , 0.        , 0.        , 0.        ],\n",
              "       [0.        , 0.33333333, 0.        , 0.        ],\n",
              "       [0.        , 0.        , 0.25      , 0.        ],\n",
              "       [0.        , 0.        , 0.        , 0.2       ]])"
            ]
          },
          "metadata": {
            "tags": []
          },
          "execution_count": 109
        }
      ]
    },
    {
      "cell_type": "markdown",
      "metadata": {
        "id": "QRNL8uc19pjL"
      },
      "source": [
        "Una **matriz es simétrica** cuando su transpuesta es igual a la matriz "
      ]
    },
    {
      "cell_type": "code",
      "metadata": {
        "id": "Ocrh-74V9hQz",
        "colab": {
          "base_uri": "https://localhost:8080/",
          "height": 68
        },
        "outputId": "b64120ea-4af1-4b5c-ab40-63dd7ea27320"
      },
      "source": [
        "#Por ejemplo \n",
        "simetrica = np.array([[1,2,3],\n",
        "                      [2,-1,7],\n",
        "                      [3,7,11]])\n",
        "simetrica"
      ],
      "execution_count": null,
      "outputs": [
        {
          "output_type": "execute_result",
          "data": {
            "text/plain": [
              "array([[ 1,  2,  3],\n",
              "       [ 2, -1,  7],\n",
              "       [ 3,  7, 11]])"
            ]
          },
          "metadata": {
            "tags": []
          },
          "execution_count": 111
        }
      ]
    },
    {
      "cell_type": "code",
      "metadata": {
        "id": "alnrECSP-OHC",
        "colab": {
          "base_uri": "https://localhost:8080/",
          "height": 68
        },
        "outputId": "a266c312-52ea-425f-a86c-04006911a635"
      },
      "source": [
        "print(simetrica.T)"
      ],
      "execution_count": null,
      "outputs": [
        {
          "output_type": "stream",
          "text": [
            "[[ 1  2  3]\n",
            " [ 2 -1  7]\n",
            " [ 3  7 11]]\n"
          ],
          "name": "stdout"
        }
      ]
    },
    {
      "cell_type": "markdown",
      "metadata": {
        "id": "YGMXfhxJ-W3t"
      },
      "source": [
        "Si (AB).T = (B.T)(A.T)\n",
        "\n",
        "Pero si son simétricas:\n",
        "\n",
        "(AB).T = (B)(A)"
      ]
    },
    {
      "cell_type": "markdown",
      "metadata": {
        "id": "jGD36EdS-2SB"
      },
      "source": [
        "#Vectores ortogonales, matrices ortogonales y sus propiedades\n",
        "\n",
        "---\n",
        "\n"
      ]
    },
    {
      "cell_type": "markdown",
      "metadata": {
        "id": "hfbs1j6t_Bv7"
      },
      "source": [
        "Un vector ortoganl es ortogonal en referencia a otro vector, no existe un vector ortogonal aislado.\n",
        "\n",
        "**Ser ortogonal es que el ángulo que forman los vectores es de 90 grados**"
      ]
    },
    {
      "cell_type": "code",
      "metadata": {
        "id": "rSukbIn4-V0K"
      },
      "source": [
        "%matplotlib inline\n",
        "import numpy as np\n",
        "import matplotlib.pyplot as plt"
      ],
      "execution_count": null,
      "outputs": []
    },
    {
      "cell_type": "code",
      "metadata": {
        "id": "ysJcVvAV_tY3",
        "colab": {
          "base_uri": "https://localhost:8080/",
          "height": 269
        },
        "outputId": "40d12697-ba9b-44b0-bc55-36ecf8b0a77d"
      },
      "source": [
        "x = np.array([0,0,2,2])\n",
        "y = np.array([0,0,2,-2])\n",
        "\n",
        "plt.quiver([x[0], y[0]], \n",
        "           [x[1], y[1]], \n",
        "           [x[2], y[2]], \n",
        "           [x[3], y[3]], \n",
        "           angles = 'xy', scale_units = 'xy', scale = 1,\n",
        "           color = sns.color_palette()\n",
        "           )\n",
        "plt.xlim(-2,4)\n",
        "plt.ylim(-3,3)\n",
        "\n",
        "plt.show()\n",
        "  "
      ],
      "execution_count": null,
      "outputs": [
        {
          "output_type": "display_data",
          "data": {
            "image/png": "[encoded data removed]",
            "text/plain": [
              "<Figure size 432x288 with 1 Axes>"
            ]
          },
          "metadata": {
            "tags": [],
            "needs_background": "light"
          }
        }
      ]
    },
    {
      "cell_type": "code",
      "metadata": {
        "id": "79lBakAyAs4K",
        "colab": {
          "base_uri": "https://localhost:8080/",
          "height": 34
        },
        "outputId": "a9d66354-35b4-4f1d-b713-1ce70d5e5d14"
      },
      "source": [
        "v1 = np.array([[2,2]])\n",
        "v2 = np.array([[2,-2]])\n",
        "v1, v2"
      ],
      "execution_count": null,
      "outputs": [
        {
          "output_type": "execute_result",
          "data": {
            "text/plain": [
              "(array([[2, 2]]), array([[ 2, -2]]))"
            ]
          },
          "metadata": {
            "tags": []
          },
          "execution_count": 118
        }
      ]
    },
    {
      "cell_type": "code",
      "metadata": {
        "id": "8ORc7z4dA7Vz",
        "colab": {
          "base_uri": "https://localhost:8080/",
          "height": 34
        },
        "outputId": "33feccf7-eb1f-48ac-e8f3-6cedd1cc6cc8"
      },
      "source": [
        "print(v1.dot(v2.T))"
      ],
      "execution_count": null,
      "outputs": [
        {
          "output_type": "stream",
          "text": [
            "[[0]]\n"
          ],
          "name": "stdout"
        }
      ]
    },
    {
      "cell_type": "markdown",
      "metadata": {
        "id": "-xKlq8xCBHlH"
      },
      "source": [
        "Los vectores son ortonormales cuando la norma es 1"
      ]
    },
    {
      "cell_type": "code",
      "metadata": {
        "id": "wPoIIENqBOKW",
        "colab": {
          "base_uri": "https://localhost:8080/",
          "height": 51
        },
        "outputId": "a0e16574-817a-4b04-bc0a-0e3de6380896"
      },
      "source": [
        "#Estos vectores no son ortonormales\n",
        "print(np.linalg.norm(v1))\n",
        "print(np.linalg.norm(v2))"
      ],
      "execution_count": null,
      "outputs": [
        {
          "output_type": "stream",
          "text": [
            "2.8284271247461903\n",
            "2.8284271247461903\n"
          ],
          "name": "stdout"
        }
      ]
    },
    {
      "cell_type": "code",
      "metadata": {
        "id": "JTKgz2SSBg-m",
        "colab": {
          "base_uri": "https://localhost:8080/",
          "height": 34
        },
        "outputId": "e070f883-5766-42b4-fc48-38fb1b574e43"
      },
      "source": [
        "v1 = np.array([0,1])\n",
        "v2 = np.array([0,-1])\n",
        "v1, v2"
      ],
      "execution_count": null,
      "outputs": [
        {
          "output_type": "execute_result",
          "data": {
            "text/plain": [
              "(array([0, 1]), array([ 0, -1]))"
            ]
          },
          "metadata": {
            "tags": []
          },
          "execution_count": 122
        }
      ]
    },
    {
      "cell_type": "code",
      "metadata": {
        "id": "w2mo5UV3Bt4z",
        "colab": {
          "base_uri": "https://localhost:8080/",
          "height": 51
        },
        "outputId": "2053ec3a-1f44-4c36-aaa1-dece65176707"
      },
      "source": [
        "#Estos vectores SI son ortonormales\n",
        "print(np.linalg.norm(v1))\n",
        "print(np.linalg.norm(v2))"
      ],
      "execution_count": null,
      "outputs": [
        {
          "output_type": "stream",
          "text": [
            "1.0\n",
            "1.0\n"
          ],
          "name": "stdout"
        }
      ]
    },
    {
      "cell_type": "markdown",
      "metadata": {
        "id": "8oK-NbqgB7Qb"
      },
      "source": [
        "En R2 solo podemos tener dos vectores ortogonales\n",
        "\n",
        "En R3 solo podemos tener tres vectores ortogonales\n",
        "\n",
        "En RN solo podemos tener n vectores ortogonales"
      ]
    },
    {
      "cell_type": "markdown",
      "metadata": {
        "id": "qsHVFJSnCMQC"
      },
      "source": [
        ""
      ]
    },
    {
      "cell_type": "markdown",
      "metadata": {
        "id": "gUIK4Y8eCb7f"
      },
      "source": [
        "#Matrices ortogonales y sus propiedades\n",
        "\n",
        "\n",
        "---\n",
        "\n"
      ]
    },
    {
      "cell_type": "markdown",
      "metadata": {
        "id": "zsSWvBxiCo3g"
      },
      "source": [
        "\n",
        "Una matriz es ortogonal cuando todas sus filas son mutuamente ortonormales y todas sus columnas son mutuamente ortonormales.\n",
        "\n",
        "Así mismo, una matriz ortogonal es una matriz cuadrada cuya matriz inversa coincide con su matriz transpuesta."
      ]
    },
    {
      "cell_type": "code",
      "metadata": {
        "id": "zTYPmtNgDDOh",
        "colab": {
          "base_uri": "https://localhost:8080/",
          "height": 68
        },
        "outputId": "ea2b52f4-d7e8-4864-b946-6450087ab007"
      },
      "source": [
        "matriz = np.array([[1,0,0],\n",
        "              [0,1,0],\n",
        "              [0,0,1]\n",
        "              ])\n",
        "matriz"
      ],
      "execution_count": null,
      "outputs": [
        {
          "output_type": "execute_result",
          "data": {
            "text/plain": [
              "array([[1, 0, 0],\n",
              "       [0, 1, 0],\n",
              "       [0, 0, 1]])"
            ]
          },
          "metadata": {
            "tags": []
          },
          "execution_count": 125
        }
      ]
    },
    {
      "cell_type": "code",
      "metadata": {
        "id": "abHFWVr2DZCR",
        "colab": {
          "base_uri": "https://localhost:8080/",
          "height": 68
        },
        "outputId": "554feb59-a730-4d67-cad7-1a397e31ba1f"
      },
      "source": [
        " #Verificamos que los vectores (columnas) tengan norma cero \n",
        "print(matriz[:,0].dot(matriz[:,1]))\n",
        "print(matriz[:,0].dot(matriz[:,2]))\n",
        "print(matriz[:,1].dot(matriz[:,2]))"
      ],
      "execution_count": null,
      "outputs": [
        {
          "output_type": "stream",
          "text": [
            "0\n",
            "0\n",
            "0\n"
          ],
          "name": "stdout"
        }
      ]
    },
    {
      "cell_type": "code",
      "metadata": {
        "id": "gE6SB7IcDyXc",
        "colab": {
          "base_uri": "https://localhost:8080/",
          "height": 68
        },
        "outputId": "89b86004-aac3-40eb-c361-662a069da1ba"
      },
      "source": [
        " #Verificamos que los vectores (columnas) sean ortonormales\n",
        "print(np.linalg.norm(matriz[:,0]))\n",
        "print(np.linalg.norm(matriz[:,1]))\n",
        "print(np.linalg.norm(matriz[:,2]))"
      ],
      "execution_count": null,
      "outputs": [
        {
          "output_type": "stream",
          "text": [
            "1.0\n",
            "1.0\n",
            "1.0\n"
          ],
          "name": "stdout"
        }
      ]
    },
    {
      "cell_type": "markdown",
      "metadata": {
        "id": "LsKePQpWC1Oq"
      },
      "source": [
        ""
      ]
    },
    {
      "cell_type": "code",
      "metadata": {
        "id": "ZrUeTNTzEj9I",
        "colab": {
          "base_uri": "https://localhost:8080/",
          "height": 68
        },
        "outputId": "ee2ff556-25a8-4dde-9900-bdce16f05f1e"
      },
      "source": [
        " #Verificamos que los vectores (filas) tengan norma cero \n",
        "print(matriz[0,:].dot(matriz[1,:]))\n",
        "print(matriz[0,:].dot(matriz[2,:]))\n",
        "print(matriz[1,:].dot(matriz[2,:]))"
      ],
      "execution_count": null,
      "outputs": [
        {
          "output_type": "stream",
          "text": [
            "0\n",
            "0\n",
            "0\n"
          ],
          "name": "stdout"
        }
      ]
    },
    {
      "cell_type": "code",
      "metadata": {
        "id": "XpyIg-SJE7OD",
        "colab": {
          "base_uri": "https://localhost:8080/",
          "height": 68
        },
        "outputId": "da4e6d2d-4fb6-4e77-cec2-69710c7ca57e"
      },
      "source": [
        " #Verificamos que los vectores (filas) sean ortonormales\n",
        "print(np.linalg.norm(matriz[0,:]))\n",
        "print(np.linalg.norm(matriz[1,:]))\n",
        "print(np.linalg.norm(matriz[2,:]))"
      ],
      "execution_count": null,
      "outputs": [
        {
          "output_type": "stream",
          "text": [
            "1.0\n",
            "1.0\n",
            "1.0\n"
          ],
          "name": "stdout"
        }
      ]
    },
    {
      "cell_type": "markdown",
      "metadata": {
        "id": "XFN3bEiCFfVv"
      },
      "source": [
        "(A.T)(A) = A(A.T) = I\n",
        "\n",
        "A.T = A.inv"
      ]
    },
    {
      "cell_type": "code",
      "metadata": {
        "id": "A8D20JbeFO0X",
        "colab": {
          "base_uri": "https://localhost:8080/",
          "height": 51
        },
        "outputId": "24e5433d-180b-4d2c-d72d-7757544e1fab"
      },
      "source": [
        "A = np.array([[np.cos(100), -np.sin(100)],\n",
        "              [np.sin(100), np.cos(100)]])\n",
        "A"
      ],
      "execution_count": null,
      "outputs": [
        {
          "output_type": "execute_result",
          "data": {
            "text/plain": [
              "array([[ 0.86231887,  0.50636564],\n",
              "       [-0.50636564,  0.86231887]])"
            ]
          },
          "metadata": {
            "tags": []
          },
          "execution_count": 143
        }
      ]
    },
    {
      "cell_type": "code",
      "metadata": {
        "id": "a8R1kYfKGLDp",
        "colab": {
          "base_uri": "https://localhost:8080/",
          "height": 85
        },
        "outputId": "8c59f287-8cac-4e95-fbec-1db59cd63db2"
      },
      "source": [
        " #Verificamos que los vectores (filas y columnas en este caso) sean ortonormales\n",
        "print(np.linalg.norm(A[0,:]))\n",
        "print(np.linalg.norm(A[1,:]))\n",
        "print(np.linalg.norm(A[:,0]))\n",
        "print(np.linalg.norm(A[:,1]))"
      ],
      "execution_count": null,
      "outputs": [
        {
          "output_type": "stream",
          "text": [
            "0.9999999999999999\n",
            "0.9999999999999999\n",
            "0.9999999999999999\n",
            "0.9999999999999999\n"
          ],
          "name": "stdout"
        }
      ]
    },
    {
      "cell_type": "code",
      "metadata": {
        "id": "V1d0lXE3GbSa",
        "colab": {
          "base_uri": "https://localhost:8080/",
          "height": 51
        },
        "outputId": "fd5eb749-33d9-461b-cb7f-00bd307cf08f"
      },
      "source": [
        "print(A[0,:].dot(A[1,:]))\n",
        "print(A[:,0].dot(A[:,1]))"
      ],
      "execution_count": null,
      "outputs": [
        {
          "output_type": "stream",
          "text": [
            "0.0\n",
            "0.0\n"
          ],
          "name": "stdout"
        }
      ]
    },
    {
      "cell_type": "code",
      "metadata": {
        "id": "wPPI85mmGt7a",
        "colab": {
          "base_uri": "https://localhost:8080/",
          "height": 85
        },
        "outputId": "2ca9edcd-37fa-4479-d380-bcf7847a014c"
      },
      "source": [
        "A_t = A.T\n",
        "print(A_t.dot(A))\n",
        "print(A.dot(A_t))"
      ],
      "execution_count": null,
      "outputs": [
        {
          "output_type": "stream",
          "text": [
            "[[ 1.00000000e+00 -7.93771519e-18]\n",
            " [-7.93771519e-18  1.00000000e+00]]\n",
            "[[1.00000000e+00 7.93771519e-18]\n",
            " [7.93771519e-18 1.00000000e+00]]\n"
          ],
          "name": "stdout"
        }
      ]
    },
    {
      "cell_type": "code",
      "metadata": {
        "id": "D0K8HF1BHH9I",
        "colab": {
          "base_uri": "https://localhost:8080/",
          "height": 51
        },
        "outputId": "532c75a9-644a-4c87-b9d6-1535439e9be0"
      },
      "source": [
        "A_inv = np.linalg.inv(A)\n",
        "A_inv"
      ],
      "execution_count": null,
      "outputs": [
        {
          "output_type": "execute_result",
          "data": {
            "text/plain": [
              "array([[ 0.86231887, -0.50636564],\n",
              "       [ 0.50636564,  0.86231887]])"
            ]
          },
          "metadata": {
            "tags": []
          },
          "execution_count": 149
        }
      ]
    },
    {
      "cell_type": "code",
      "metadata": {
        "id": "zloOZSeCHTWG",
        "colab": {
          "base_uri": "https://localhost:8080/",
          "height": 85
        },
        "outputId": "dde21f38-4000-4591-8700-2e7ec892226b"
      },
      "source": [
        "print(1/A_t.dot(A))"
      ],
      "execution_count": null,
      "outputs": [
        {
          "output_type": "stream",
          "text": [
            "[[ 1.00000000e+00 -1.25980837e+17]\n",
            " [-1.25980837e+17  1.00000000e+00]]\n",
            "[[ 1.00000000e+00 -1.25980837e+17]\n",
            " [-1.25980837e+17  1.00000000e+00]]\n"
          ],
          "name": "stdout"
        }
      ]
    },
    {
      "cell_type": "markdown",
      "metadata": {
        "id": "r9gk_prMHxY5"
      },
      "source": [
        "Debemos de tener cuidado al realizar estas operaciones por el punto flotante."
      ]
    },
    {
      "cell_type": "markdown",
      "metadata": {
        "id": "bn1FBw01H-FR"
      },
      "source": [
        "#El determinante y la traza\n",
        "\n",
        "\n",
        "---\n",
        "\n"
      ]
    },
    {
      "cell_type": "code",
      "metadata": {
        "id": "SpL9ZrKLIAsk",
        "colab": {
          "base_uri": "https://localhost:8080/",
          "height": 68
        },
        "outputId": "040b43c4-0755-4e8b-ecb8-47334990d783"
      },
      "source": [
        "matriz = np.array([[1,2,3],\n",
        "                   [4,5,6],\n",
        "                   [7,8,9]\n",
        "                ])\n",
        "print(matriz)"
      ],
      "execution_count": null,
      "outputs": [
        {
          "output_type": "stream",
          "text": [
            "[[1 2 3]\n",
            " [4 5 6]\n",
            " [7 8 9]]\n"
          ],
          "name": "stdout"
        }
      ]
    },
    {
      "cell_type": "code",
      "metadata": {
        "id": "Ubq4ZOfvIhrt",
        "colab": {
          "base_uri": "https://localhost:8080/",
          "height": 34
        },
        "outputId": "1ea957db-a63c-454c-84d1-baf5a4bba9a9"
      },
      "source": [
        "#La traza es la suma de los valores de la digonal y conmuta \n",
        "traza = np.trace(matriz)\n",
        "print(traza)"
      ],
      "execution_count": null,
      "outputs": [
        {
          "output_type": "stream",
          "text": [
            "15\n"
          ],
          "name": "stdout"
        }
      ]
    },
    {
      "cell_type": "code",
      "metadata": {
        "id": "_1V6T8R3IzmS"
      },
      "source": [
        "#Llamamos a nuestra función graficas \n",
        "\n",
        "%run '/content/drive/My Drive/Colab Notebooks/graficarVectores.ipynb'"
      ],
      "execution_count": null,
      "outputs": []
    },
    {
      "cell_type": "code",
      "metadata": {
        "id": "KSevb5ZkJ66N",
        "colab": {
          "base_uri": "https://localhost:8080/",
          "height": 269
        },
        "outputId": "9e0f9e56-c8b6-465b-eedb-dbe502a633e1"
      },
      "source": [
        "v1 = np.array([0,1])\n",
        "v2 = np.array([1,0])\n",
        "\n",
        "graficarVectores([v1,v2], ['blue', 'red'])\n",
        "plt.xlim(-0.25,2)\n",
        "plt.ylim(-0.25,2)\n",
        "\n",
        "plt.show()"
      ],
      "execution_count": null,
      "outputs": [
        {
          "output_type": "display_data",
          "data": {
            "image/png": "[encoded data removed]",
            "text/plain": [
              "<Figure size 432x288 with 1 Axes>"
            ]
          },
          "metadata": {
            "tags": [],
            "needs_background": "light"
          }
        }
      ]
    },
    {
      "cell_type": "code",
      "metadata": {
        "id": "ZRj-YuO-KcUK",
        "colab": {
          "base_uri": "https://localhost:8080/",
          "height": 51
        },
        "outputId": "48e07eb6-fe6d-4f65-e186-8d262ff56779"
      },
      "source": [
        "A = np.array([[2,0],[0,2]])\n",
        "A"
      ],
      "execution_count": null,
      "outputs": [
        {
          "output_type": "execute_result",
          "data": {
            "text/plain": [
              "array([[2, 0],\n",
              "       [0, 2]])"
            ]
          },
          "metadata": {
            "tags": []
          },
          "execution_count": 164
        }
      ]
    },
    {
      "cell_type": "code",
      "metadata": {
        "id": "qI6vCMObKrel"
      },
      "source": [
        "v1_transformado = A.dot(v1)\n",
        "v2_transformado = A.dot(v2)"
      ],
      "execution_count": null,
      "outputs": []
    },
    {
      "cell_type": "code",
      "metadata": {
        "id": "UWF0Tm2aK1X3",
        "colab": {
          "base_uri": "https://localhost:8080/",
          "height": 269
        },
        "outputId": "6cece808-1529-4cd7-bc2e-48e9763c7dcc"
      },
      "source": [
        "graficarVectores([v1_transformado,v2_transformado], ['orange','green'])\n",
        "plt.xlim(-0.25,2)\n",
        "plt.ylim(-0.25,2)\n",
        "\n",
        "plt.show()"
      ],
      "execution_count": null,
      "outputs": [
        {
          "output_type": "display_data",
          "data": {
            "image/png": "[encoded data removed]",
            "text/plain": [
              "<Figure size 432x288 with 1 Axes>"
            ]
          },
          "metadata": {
            "tags": [],
            "needs_background": "light"
          }
        }
      ]
    },
    {
      "cell_type": "code",
      "metadata": {
        "id": "8ifrYPrzLUKW",
        "colab": {
          "base_uri": "https://localhost:8080/",
          "height": 34
        },
        "outputId": "c449668c-2e6a-4a0e-a79f-78ce90e59457"
      },
      "source": [
        "det_A = np.linalg.det(A)\n",
        "det_A"
      ],
      "execution_count": null,
      "outputs": [
        {
          "output_type": "execute_result",
          "data": {
            "text/plain": [
              "4.0"
            ]
          },
          "metadata": {
            "tags": []
          },
          "execution_count": 172
        }
      ]
    },
    {
      "cell_type": "code",
      "metadata": {
        "id": "QMIbDbnsL1iw",
        "colab": {
          "base_uri": "https://localhost:8080/",
          "height": 51
        },
        "outputId": "8cea8199-1cfb-4b20-cd6d-94245a4fd3fe"
      },
      "source": [
        "B = A*[-1,1]\n",
        "B"
      ],
      "execution_count": null,
      "outputs": [
        {
          "output_type": "execute_result",
          "data": {
            "text/plain": [
              "array([[-2,  0],\n",
              "       [ 0,  2]])"
            ]
          },
          "metadata": {
            "tags": []
          },
          "execution_count": 174
        }
      ]
    },
    {
      "cell_type": "code",
      "metadata": {
        "id": "wprPUH_GMB05",
        "colab": {
          "base_uri": "https://localhost:8080/",
          "height": 34
        },
        "outputId": "b82d011d-dd7d-445a-aaa7-27fbec73e62c"
      },
      "source": [
        "det_B = np.linalg.det(B)\n",
        "det_B "
      ],
      "execution_count": null,
      "outputs": [
        {
          "output_type": "execute_result",
          "data": {
            "text/plain": [
              "-4.0"
            ]
          },
          "metadata": {
            "tags": []
          },
          "execution_count": 176
        }
      ]
    },
    {
      "cell_type": "code",
      "metadata": {
        "id": "aflpKDSyMR-z",
        "colab": {
          "base_uri": "https://localhost:8080/",
          "height": 269
        },
        "outputId": "39e3ce46-6768-44b7-91e8-82ec87038e9e"
      },
      "source": [
        "v1 = np.array([0,1])\n",
        "v2 = np.array([1,0])\n",
        "\n",
        "v1_transformado = B.dot(v1)\n",
        "v2_transformado = B.dot(v2)\n",
        "\n",
        "graficarVectores([v1_transformado,v2_transformado, v1, v2], ['blue', 'red','orange','green'])\n",
        "plt.xlim(-3,1.5)\n",
        "plt.ylim(-0.5,2.5)\n",
        "\n",
        "plt.show()"
      ],
      "execution_count": null,
      "outputs": [
        {
          "output_type": "display_data",
          "data": {
            "image/png": "[encoded data removed]",
            "text/plain": [
              "<Figure size 432x288 with 1 Axes>"
            ]
          },
          "metadata": {
            "tags": [],
            "needs_background": "light"
          }
        }
      ]
    },
    {
      "cell_type": "markdown",
      "metadata": {
        "id": "rfHSslrR3FUm"
      },
      "source": [
        "#Examen\n",
        "\n",
        "---\n",
        "\n"
      ]
    },
    {
      "cell_type": "markdown",
      "metadata": {
        "id": "yFsN5Z993bWd"
      },
      "source": [
        "El producto interno de una matriz de dimensiones (3,2) y un vector de dimensión (2, ) nos devuelve:  "
      ]
    },
    {
      "cell_type": "code",
      "metadata": {
        "id": "HTeul0Kq3Jzy",
        "colab": {
          "base_uri": "https://localhost:8080/",
          "height": 232
        },
        "outputId": "25126696-e2f5-4dbd-a993-ead30459cbac"
      },
      "source": [
        "matriz = np.array([[1,2,3],[4,5,6]])\n",
        "vector = np.array([1,0])\n",
        "\n",
        "producto_interno = matriz.dot(vector)\n",
        "\n",
        "producto_interno\n",
        "\n",
        "\n"
      ],
      "execution_count": null,
      "outputs": [
        {
          "output_type": "error",
          "ename": "ValueError",
          "evalue": "ignored",
          "traceback": [
            "\u001b[0;31m---------------------------------------------------------------------------\u001b[0m",
            "\u001b[0;31mValueError\u001b[0m                                Traceback (most recent call last)",
            "\u001b[0;32m<ipython-input-31-903a2a066974>\u001b[0m in \u001b[0;36m<module>\u001b[0;34m()\u001b[0m\n\u001b[1;32m      2\u001b[0m \u001b[0mvector\u001b[0m \u001b[0;34m=\u001b[0m \u001b[0mnp\u001b[0m\u001b[0;34m.\u001b[0m\u001b[0marray\u001b[0m\u001b[0;34m(\u001b[0m\u001b[0;34m[\u001b[0m\u001b[0;36m1\u001b[0m\u001b[0;34m,\u001b[0m\u001b[0;36m0\u001b[0m\u001b[0;34m]\u001b[0m\u001b[0;34m)\u001b[0m\u001b[0;34m\u001b[0m\u001b[0;34m\u001b[0m\u001b[0m\n\u001b[1;32m      3\u001b[0m \u001b[0;34m\u001b[0m\u001b[0m\n\u001b[0;32m----> 4\u001b[0;31m \u001b[0mproducto_interno\u001b[0m \u001b[0;34m=\u001b[0m \u001b[0mmatriz\u001b[0m\u001b[0;34m.\u001b[0m\u001b[0mdot\u001b[0m\u001b[0;34m(\u001b[0m\u001b[0mvector\u001b[0m\u001b[0;34m)\u001b[0m\u001b[0;34m\u001b[0m\u001b[0;34m\u001b[0m\u001b[0m\n\u001b[0m\u001b[1;32m      5\u001b[0m \u001b[0;34m\u001b[0m\u001b[0m\n\u001b[1;32m      6\u001b[0m \u001b[0mproducto_interno\u001b[0m\u001b[0;34m\u001b[0m\u001b[0;34m\u001b[0m\u001b[0m\n",
            "\u001b[0;31mValueError\u001b[0m: shapes (2,3) and (2,) not aligned: 3 (dim 1) != 2 (dim 0)"
          ]
        }
      ]
    },
    {
      "cell_type": "markdown",
      "metadata": {
        "id": "G_vVvaU-4BGQ"
      },
      "source": [
        "Sumar la matriz [[1 3] [5 6]] con el escalar 3 (matriz+escalar) da lo mismo que hacer:  "
      ]
    },
    {
      "cell_type": "code",
      "metadata": {
        "id": "RBSqj-MR4Ayl",
        "colab": {
          "base_uri": "https://localhost:8080/",
          "height": 51
        },
        "outputId": "c212259e-c92e-498f-dc74-e8c7aac2ce29"
      },
      "source": [
        "matriz = np.array([[1,3],[5,6]])\n",
        "r = matriz + 3\n",
        "r"
      ],
      "execution_count": null,
      "outputs": [
        {
          "output_type": "execute_result",
          "data": {
            "text/plain": [
              "array([[4, 6],\n",
              "       [8, 9]])"
            ]
          },
          "metadata": {
            "tags": []
          },
          "execution_count": 9
        }
      ]
    },
    {
      "cell_type": "markdown",
      "metadata": {
        "id": "ynjUJ51L4bhY"
      },
      "source": [
        "Cuando tengo dos matrices A y B, con A de dimensiones (3,2) y B (2,3), entonces con respecto al producto interno: "
      ]
    },
    {
      "cell_type": "code",
      "metadata": {
        "id": "n0kU6Zqa4TTv",
        "colab": {
          "base_uri": "https://localhost:8080/",
          "height": 119
        },
        "outputId": "0fb8f321-4526-4cef-ae6e-480922c93fb1"
      },
      "source": [
        "A = np.array([[1,0],[0,1], [1,1]])\n",
        "B = np.array([[1,0,0],[1,1,0]])\n",
        "\n",
        "print(A.dot(B))\n",
        "print(\"-------\")\n",
        "print(B.dot(A))\n"
      ],
      "execution_count": null,
      "outputs": [
        {
          "output_type": "stream",
          "text": [
            "[[1 0 0]\n",
            " [1 1 0]\n",
            " [2 1 0]]\n",
            "-------\n",
            "[[1 0]\n",
            " [1 1]]\n"
          ],
          "name": "stdout"
        }
      ]
    },
    {
      "cell_type": "code",
      "metadata": {
        "id": "J4--OtG85SqD"
      },
      "source": [
        "x = np.arange(0,6)\n",
        "\n",
        "y_1 = 7*x + 2\n",
        "y_2 = 3*x + 5"
      ],
      "execution_count": null,
      "outputs": []
    },
    {
      "cell_type": "code",
      "metadata": {
        "id": "jjrnVd1x5_e1",
        "colab": {
          "base_uri": "https://localhost:8080/",
          "height": 269
        },
        "outputId": "a8772235-0b05-4da1-ee7a-9d8ace44f768"
      },
      "source": [
        "#Creamos una figura\n",
        "plt.figure()\n",
        "\n",
        "#curvas graficar\n",
        "plt.plot(x, y_1)\n",
        "plt.plot(x, y_2)\n",
        "\n",
        "#Definimos rangos de X y Y para visualizar\n",
        "plt.xlim(0,3)\n",
        "plt.ylim(5,8)\n",
        "\n",
        "#Formato de los ejes\n",
        "plt.axvline(x=0, color= 'grey')\n",
        "plt.axhline(y=0, color= 'grey')\n",
        "plt.show()"
      ],
      "execution_count": null,
      "outputs": [
        {
          "output_type": "display_data",
          "data": {
            "image/png": "[encoded data removed]",
            "text/plain": [
              "<Figure size 432x288 with 1 Axes>"
            ]
          },
          "metadata": {
            "tags": [],
            "needs_background": "light"
          }
        }
      ]
    },
    {
      "cell_type": "code",
      "metadata": {
        "id": "HQhgo92871P7",
        "colab": {
          "base_uri": "https://localhost:8080/",
          "height": 34
        },
        "outputId": "7c58111c-8a67-4e4b-a16f-d68a4624e0c6"
      },
      "source": [
        "vector = [1/2,1/2,1/2,1/2]\n",
        "np.linalg.norm(vector)"
      ],
      "execution_count": null,
      "outputs": [
        {
          "output_type": "execute_result",
          "data": {
            "text/plain": [
              "1.0"
            ]
          },
          "metadata": {
            "tags": []
          },
          "execution_count": 24
        }
      ]
    },
    {
      "cell_type": "markdown",
      "metadata": {
        "id": "MSfNBytX8luf"
      },
      "source": [
        "Transponer la matriz [[1, 2, 3, 4] [5, 6, 7, 8] [9,10, 11,12]] da como resultado:"
      ]
    },
    {
      "cell_type": "code",
      "metadata": {
        "id": "COMOFJYg8RF3",
        "colab": {
          "base_uri": "https://localhost:8080/",
          "height": 85
        },
        "outputId": "4050e1c2-4be2-4797-a39f-e021db87759f"
      },
      "source": [
        "matriz = np.array([[1, 2, 3, 4], [5, 6, 7, 8] ,[9,10, 11,12]])\n",
        "matriz.T"
      ],
      "execution_count": null,
      "outputs": [
        {
          "output_type": "execute_result",
          "data": {
            "text/plain": [
              "array([[ 1,  5,  9],\n",
              "       [ 2,  6, 10],\n",
              "       [ 3,  7, 11],\n",
              "       [ 4,  8, 12]])"
            ]
          },
          "metadata": {
            "tags": []
          },
          "execution_count": 28
        }
      ]
    },
    {
      "cell_type": "markdown",
      "metadata": {
        "id": "EEjFAfxE8o4e"
      },
      "source": [
        ""
      ]
    },
    {
      "cell_type": "markdown",
      "metadata": {
        "id": "tjb3YHLD_al1"
      },
      "source": [
        "¿Son ortogonales los vectores v = [7,-7,3], u=[1,1,0] y w=[0,0,1]?"
      ]
    },
    {
      "cell_type": "code",
      "metadata": {
        "id": "rqLdSI0h8on2",
        "colab": {
          "base_uri": "https://localhost:8080/",
          "height": 68
        },
        "outputId": "9411b2f5-90c1-4b77-a7cc-e5810ca36243"
      },
      "source": [
        "# vectores ortogonales\n",
        "v1 = np.array([7,-7,3])\n",
        "v2 = np.array([1,1,0])\n",
        "v3 = np.array([0,0,1])\n",
        "\n",
        "print(v1 @ v2)\n",
        "print(v2 @ v3)\n",
        "print(v1 @ v3)"
      ],
      "execution_count": null,
      "outputs": [
        {
          "output_type": "stream",
          "text": [
            "0\n",
            "0\n",
            "3\n"
          ],
          "name": "stdout"
        }
      ]
    },
    {
      "cell_type": "markdown",
      "metadata": {
        "id": "_piGmtIKA-oD"
      },
      "source": [
        "Dadas A y B, tal que A.dot(B) está definido, entonces al transponer(A.dot(B)) siempre es igual a:"
      ]
    },
    {
      "cell_type": "code",
      "metadata": {
        "id": "4p2RDCmsA97Y",
        "colab": {
          "base_uri": "https://localhost:8080/",
          "height": 119
        },
        "outputId": "1c918513-3a1d-44c9-9673-d00293e5472b"
      },
      "source": [
        "A = np.array([[1,0],[0,1], [1,1]])\n",
        "B = np.array([[1,0,0],[1,1,0]])\n"
      ],
      "execution_count": null,
      "outputs": [
        {
          "output_type": "stream",
          "text": [
            "[[1 0 0]\n",
            " [1 1 0]\n",
            " [2 1 0]]\n",
            "-------\n",
            "[[1 0]\n",
            " [1 1]]\n"
          ],
          "name": "stdout"
        }
      ]
    },
    {
      "cell_type": "code",
      "metadata": {
        "id": "_qZxArShBBZt",
        "colab": {
          "base_uri": "https://localhost:8080/",
          "height": 119
        },
        "outputId": "ca3a951e-f1dc-4da9-ff97-6e889197ca9f"
      },
      "source": [
        "#Esta definido\n",
        "print(A.dot(B))\n",
        "\n",
        "print(A.dot(B).T == B.T.dot(A.T))\n"
      ],
      "execution_count": null,
      "outputs": [
        {
          "output_type": "stream",
          "text": [
            "[[1 0 0]\n",
            " [1 1 0]\n",
            " [2 1 0]]\n",
            "[[ True  True  True]\n",
            " [ True  True  True]\n",
            " [ True  True  True]]\n"
          ],
          "name": "stdout"
        }
      ]
    }
  ]
}